{
 "cells": [
  {
   "cell_type": "code",
   "execution_count": null,
   "metadata": {
    "colab": {
     "base_uri": "https://localhost:8080/",
     "height": 0
    },
    "id": "dzbqoN9syFDc",
    "outputId": "a4862bfe-d1dd-497a-d9db-031db55ed372"
   },
   "outputs": [],
   "source": [
    "!pip3 install gdown\n",
    "import pandas as pd\n",
    "import numpy as np\n",
    "import gdown\n",
    "# https://drive.google.com/file/d/1JhMQl_ZKg7PQjB-I_I41ngH1fLgFPlz_/view?usp=drive_link\n",
    "file_id = \"1JhMQl_ZKg7PQjB-I_I41ngH1fLgFPlz_\"\n",
    "download_url = f\"https://drive.google.com/uc?id={file_id}\"\n",
    "\n",
    "output = \"data.csv\"\n",
    "gdown.download(download_url, output, quiet=False)\n",
    "pd.set_option('display.max_columns', None)\n",
    "df = pd.read_csv(\"data.csv\", encoding='ISO-8859-1')"
   ]
  },
  {
   "cell_type": "code",
   "execution_count": null,
   "metadata": {
    "colab": {
     "base_uri": "https://localhost:8080/",
     "height": 418
    },
    "id": "TgeCQaZNzrs2",
    "outputId": "277f8ae8-9cf3-4550-cd1c-47997e1d3f7b"
   },
   "outputs": [],
   "source": [
    "df = pd.read_csv(\"data.csv\", encoding='ISO-8859-1')\n",
    "df.head()"
   ]
  },
  {
   "cell_type": "code",
   "execution_count": null,
   "metadata": {
    "id": "TThby-_20DZK"
   },
   "outputs": [],
   "source": [
    "# df = pd.read_csv(\"data.csv\", encoding='cp1252')"
   ]
  },
  {
   "cell_type": "code",
   "execution_count": null,
   "metadata": {
    "id": "Icl-FDmZinPJ"
   },
   "outputs": [],
   "source": [
    "df.dropna(inplace=True)"
   ]
  },
  {
   "cell_type": "code",
   "execution_count": null,
   "metadata": {
    "colab": {
     "base_uri": "https://localhost:8080/",
     "height": 115
    },
    "id": "6--1G6H7kNgv",
    "outputId": "431cd31e-b5c3-4c46-ae75-e06c07b00d35"
   },
   "outputs": [],
   "source": [
    "a=df[\"artists\"].head(1)\n",
    "a"
   ]
  },
  {
   "cell_type": "code",
   "execution_count": null,
   "metadata": {
    "id": "rt1BO2Yn0Iyw"
   },
   "outputs": [],
   "source": [
    "def clean_artists_column(artist_string):\n",
    "    if pd.isna(artist_string):\n",
    "        return []\n",
    "\n",
    "    items = [item.strip() for item in artist_string.split(\",\")]\n",
    "\n",
    "    prefixes_to_remove = [\n",
    "        \"https://api.spotify.com/v1/artists/\",\n",
    "        \"spotify:artist:\",\n",
    "        \"https://open.spotify.com/artist/\"\n",
    "    ]\n",
    "\n",
    "    cleaned_items = []\n",
    "    for item in items:\n",
    "        for prefix in prefixes_to_remove:\n",
    "            if item.startswith(prefix):\n",
    "                item = item.replace(prefix, \"\")\n",
    "        cleaned_items.append(item)\n",
    "\n",
    "    final_items = [item for item in cleaned_items if item.lower() != \"artist\"]\n",
    "    seen = set()\n",
    "    unique_items = []\n",
    "    for item in final_items:\n",
    "        if item not in seen:\n",
    "            unique_items.append(item)\n",
    "            seen.add(item)\n",
    "\n",
    "    return unique_items\n",
    "df['updated_artists'] = df['artists'].apply(clean_artists_column)"
   ]
  },
  {
   "cell_type": "code",
   "execution_count": null,
   "metadata": {
    "id": "94NDMlX7LJ7t"
   },
   "outputs": [],
   "source": [
    "df['available_markets'] = df['available_markets'].str.split(', ')\n",
    "from sklearn.preprocessing import MultiLabelBinarizer\n",
    "\n",
    "mlb = MultiLabelBinarizer()\n",
    "market_dummies = pd.DataFrame(mlb.fit_transform(df['available_markets']),\n",
    "                              columns=mlb.classes_,\n",
    "                              index=df.index)\n",
    "df = df.join(market_dummies)"
   ]
  },
  {
   "cell_type": "code",
   "execution_count": null,
   "metadata": {
    "id": "1PBt9x07I9dR"
   },
   "outputs": [],
   "source": [
    "df.columns\n",
    "df.drop(columns=[\"artists\",\"uri.x\",\"is_local\",\"type.x\",\"href\",\"album.artists\",\"album.href\",\"album.images\",\"album.uri\",\"album.external_urls.spotify\",\"external_urls.spotify\",\"uri.y\",\"track_href\",\"analysis_url\",\"preview_url\",\"album.available_markets\",\"available_markets\"],inplace=True)"
   ]
  },
  {
   "cell_type": "code",
   "execution_count": null,
   "metadata": {
    "colab": {
     "base_uri": "https://localhost:8080/",
     "height": 313
    },
    "id": "g4xIYtc-K3Sx",
    "outputId": "65deb022-454b-40fe-c5b7-01c007700782"
   },
   "outputs": [],
   "source": [
    "df.head()"
   ]
  },
  {
   "cell_type": "code",
   "execution_count": null,
   "metadata": {
    "colab": {
     "base_uri": "https://localhost:8080/",
     "height": 210
    },
    "id": "B2DesMKcO_ye",
    "outputId": "ecb2afea-4b2a-48fb-e8a9-f82715e803b8"
   },
   "outputs": [],
   "source": [
    "df[\"album.release_date_precision\"].value_counts()"
   ]
  },
  {
   "cell_type": "code",
   "execution_count": null,
   "metadata": {
    "id": "DLvRnjl7L5Nf"
   },
   "outputs": [],
   "source": []
  },
  {
   "cell_type": "code",
   "execution_count": null,
   "metadata": {
    "id": "obayBuTeEjoD"
   },
   "outputs": [],
   "source": [
    "df.dropna(inplace=True)"
   ]
  },
  {
   "cell_type": "code",
   "execution_count": null,
   "metadata": {
    "id": "Y-RiSK1oCvcn"
   },
   "outputs": [],
   "source": [
    "# for col in df_encoded.columns:\n",
    "#     print(f\"Unique values in column '{col}': {df_encoded[col].nunique()}\")\n"
   ]
  },
  {
   "cell_type": "code",
   "execution_count": null,
   "metadata": {
    "id": "lArGEmG1DRq2"
   },
   "outputs": [],
   "source": [
    "# # for col in df_encoded.columns:\n",
    "#     print(f\"NAN values in column '{col}': {df_encoded[col].isna().sum()}\")"
   ]
  },
  {
   "cell_type": "code",
   "execution_count": null,
   "metadata": {
    "id": "eIzO5klODm9F"
   },
   "outputs": [],
   "source": [
    "features = [\n",
    "    'danceability', 'energy', 'valence', 'tempo',\n",
    "    'acousticness', 'instrumentalness', 'liveness', 'speechiness'\n",
    "]"
   ]
  },
  {
   "cell_type": "code",
   "execution_count": null,
   "metadata": {
    "id": "ptyvHhySXWfT"
   },
   "outputs": [],
   "source": [
    "import pandas as pd\n",
    "from sklearn.preprocessing import StandardScaler\n",
    "\n",
    "# # Load your data\n",
    "# df = pd.read_csv('your_dataset.csv')  # or however you have it\n",
    "\n",
    "# Keep only the needed features\n",
    "X = df[features].copy()\n",
    "\n",
    "# Scale features\n",
    "scaler = StandardScaler()\n",
    "X_scaled = scaler.fit_transform(X)"
   ]
  },
  {
   "cell_type": "code",
   "execution_count": null,
   "metadata": {
    "colab": {
     "base_uri": "https://localhost:8080/",
     "height": 0
    },
    "id": "P4TBwgOQJAH4",
    "outputId": "0d811b95-53ff-47d8-c44f-4b824722977b"
   },
   "outputs": [],
   "source": [
    "!pip3 install --upgrade pip"
   ]
  },
  {
   "cell_type": "code",
   "execution_count": null,
   "metadata": {
    "colab": {
     "base_uri": "https://localhost:8080/",
     "height": 0
    },
    "id": "ikx7dc5SJAH4",
    "outputId": "5d00f74b-c756-4396-ebac-72bf1797b33d"
   },
   "outputs": [],
   "source": [
    "# !pip3 install tensorflow\n",
    "!pip3 install tensorflow"
   ]
  },
  {
   "cell_type": "code",
   "execution_count": null,
   "metadata": {
    "colab": {
     "base_uri": "https://localhost:8080/",
     "height": 0
    },
    "id": "CuKC_43KXYrq",
    "outputId": "5d27d486-b167-4ff1-8464-93e3113a1f72"
   },
   "outputs": [],
   "source": [
    "import tensorflow as tf\n",
    "from tensorflow.keras import layers, models\n",
    "\n",
    "input_dim = X_scaled.shape[1]\n",
    "\n",
    "# Autoencoder\n",
    "input_layer = layers.Input(shape=(input_dim,))\n",
    "encoded = layers.Dense(64, activation='relu')(input_layer)\n",
    "encoded = layers.Dense(32, activation='relu')(encoded)\n",
    "embedding = layers.Dense(16, activation='relu', name='embedding_layer')(encoded)\n",
    "\n",
    "decoded = layers.Dense(32, activation='relu')(embedding)\n",
    "decoded = layers.Dense(64, activation='relu')(decoded)\n",
    "output_layer = layers.Dense(input_dim, activation='linear')(decoded)\n",
    "\n",
    "autoencoder = models.Model(inputs=input_layer, outputs=output_layer)\n",
    "\n",
    "autoencoder.compile(optimizer='adam', loss='mse')\n",
    "\n",
    "# Train the autoencoder\n",
    "autoencoder.fit(X_scaled, X_scaled, epochs=30, batch_size=32, verbose=1)"
   ]
  },
  {
   "cell_type": "code",
   "execution_count": null,
   "metadata": {
    "colab": {
     "base_uri": "https://localhost:8080/",
     "height": 0
    },
    "id": "rMD3TNqMXdvV",
    "outputId": "27b49f8e-3887-420c-d24a-91bd44459919"
   },
   "outputs": [],
   "source": [
    "embedding_model = models.Model(inputs=autoencoder.input,\n",
    "                               outputs=autoencoder.get_layer('embedding_layer').output)\n",
    "\n",
    "song_embeddings = embedding_model.predict(X_scaled)"
   ]
  },
  {
   "cell_type": "code",
   "execution_count": null,
   "metadata": {
    "id": "6mPS8OgcX1GL"
   },
   "outputs": [],
   "source": [
    "from sklearn.metrics.pairwise import cosine_similarity\n",
    "import numpy as np\n",
    "\n",
    "def recommend_similar_songs(song_index, top_n=5):\n",
    "    similarities = cosine_similarity(\n",
    "        [song_embeddings[song_index]],\n",
    "        song_embeddings\n",
    "    )[0]\n",
    "\n",
    "    # Exclude the song itself\n",
    "    similar_indices = np.argsort(similarities)[::-1][1:top_n+1]\n",
    "    return df.iloc[similar_indices][['name', 'updated_artists', 'album.name']]"
   ]
  },
  {
   "cell_type": "code",
   "execution_count": null,
   "metadata": {
    "colab": {
     "base_uri": "https://localhost:8080/",
     "height": 206
    },
    "id": "FMpM906vX3fT",
    "outputId": "5e21d22a-30bd-4773-a1b5-a444f42eb721"
   },
   "outputs": [],
   "source": [
    "def recommend_similar_songs(song_index, top_n=5):\n",
    "    similarities = cosine_similarity(\n",
    "        [song_embeddings[song_index]],\n",
    "        song_embeddings\n",
    "    )[0]\n",
    "\n",
    "    similar_indices = np.argsort(similarities)[::-1][1:top_n+1]\n",
    "    return df.iloc[similar_indices][['name', 'updated_artists', 'album.name']]\n",
    "\n",
    "# Example: Recommend songs similar to the first track\n",
    "recommend_similar_songs(0)\n"
   ]
  },
  {
   "cell_type": "code",
   "execution_count": null,
   "metadata": {
    "colab": {
     "base_uri": "https://localhost:8080/",
     "height": 206
    },
    "id": "wX7vluMeYCHE",
    "outputId": "c170db55-3f8b-4a0c-f4f5-8817b3c35aaf"
   },
   "outputs": [],
   "source": [
    "def recommend_by_name(song_name, top_n=5):\n",
    "    song_index = df[df['name'] == song_name].index[0]\n",
    "    return recommend_similar_songs(song_index, top_n=top_n)\n",
    "\n",
    "# Try:\n",
    "recommend_by_name(\"Still Got Time (feat. PARTYNEXTDOOR)\")"
   ]
  },
  {
   "cell_type": "code",
   "execution_count": null,
   "metadata": {
    "id": "pv4rh1sOYWyq"
   },
   "outputs": [],
   "source": [
    "def recommend_by_name(song_name, top_n=5):\n",
    "    matches = df[df['name'].str.lower() == song_name.lower()]\n",
    "    if matches.empty:\n",
    "        return f\"Song '{song_name}' not found.\"\n",
    "    song_index = matches.index[0]\n",
    "    return recommend_similar_songs(song_index, top_n=top_n)"
   ]
  },
  {
   "cell_type": "code",
   "execution_count": null,
   "metadata": {
    "colab": {
     "base_uri": "https://localhost:8080/",
     "height": 699
    },
    "id": "DJhW1laEYnW7",
    "outputId": "7c4cb28e-27dc-4470-a684-cb77021eedbd"
   },
   "outputs": [],
   "source": [
    "from sklearn.manifold import TSNE\n",
    "import matplotlib.pyplot as plt\n",
    "\n",
    "tsne = TSNE(n_components=2, perplexity=30, random_state=42)\n",
    "reduced = tsne.fit_transform(song_embeddings)\n",
    "\n",
    "plt.figure(figsize=(12, 8))\n",
    "plt.scatter(reduced[:, 0], reduced[:, 1], alpha=0.5)\n",
    "plt.title(\"t-SNE visualization of song embeddings\")\n",
    "plt.show()"
   ]
  },
  {
   "cell_type": "code",
   "execution_count": null,
   "metadata": {
    "colab": {
     "base_uri": "https://localhost:8080/",
     "height": 0
    },
    "id": "DYxMMAluYpZ4",
    "outputId": "51ef941b-8e6d-4ec1-c888-985ff11eab8c"
   },
   "outputs": [],
   "source": [
    "loss = autoencoder.evaluate(X_scaled, X_scaled)\n",
    "print(f\"Autoencoder reconstruction loss: {loss:.4f}\")"
   ]
  },
  {
   "cell_type": "code",
   "execution_count": null,
   "metadata": {
    "colab": {
     "base_uri": "https://localhost:8080/",
     "height": 0
    },
    "id": "8zWSsVjSZJ-7",
    "outputId": "0af35c8d-0a68-4bd6-a9e3-fe653bfbbbf2"
   },
   "outputs": [],
   "source": [
    "from sklearn.metrics import silhouette_score\n",
    "from sklearn.cluster import KMeans\n",
    "\n",
    "kmeans = KMeans(n_clusters=10, random_state=42)\n",
    "labels = kmeans.fit_predict(song_embeddings)\n",
    "\n",
    "score = silhouette_score(song_embeddings, labels)\n",
    "print(f\"Silhouette score: {score:.4f}\")"
   ]
  },
  {
   "cell_type": "code",
   "execution_count": null,
   "metadata": {
    "colab": {
     "base_uri": "https://localhost:8080/",
     "height": 699
    },
    "id": "JE30Vj5IZZyn",
    "outputId": "b32546e5-bfac-404e-dc98-f51107165109"
   },
   "outputs": [],
   "source": [
    "colors = pd.to_numeric(df['popularity'], errors='coerce')  # converts strings to numbers\n",
    "plt.figure(figsize=(12, 8))\n",
    "plt.scatter(reduced[:, 0], reduced[:, 1], c=colors, cmap='viridis', alpha=0.5)\n",
    "plt.title(\"t-SNE colored by Popularity\")\n",
    "plt.colorbar(label='Popularity')\n",
    "plt.show()"
   ]
  },
  {
   "cell_type": "code",
   "execution_count": null,
   "metadata": {
    "id": "r4LXXollZtVD"
   },
   "outputs": [],
   "source": [
    "df['description'] = (\n",
    "    df['name'] + ' by ' + df['updated_artists'].apply(lambda x: ', '.join(x)) +\n",
    "    '. Energetic: ' + df['energy'].round(2).astype(str) +\n",
    "    ', Danceable: ' + df['danceability'].round(2).astype(str) +\n",
    "    ', Mood: ' + df['valence'].round(2).astype(str)\n",
    ")\n"
   ]
  },
  {
   "cell_type": "code",
   "execution_count": null,
   "metadata": {
    "colab": {
     "base_uri": "https://localhost:8080/",
     "height": 2819,
     "referenced_widgets": [
      "e5e54d04f17642fdaa48d586a82697ec",
      "43965e71beda42d7af47dff57c19fc06",
      "aecff967522b460b8100d65bb41e809b",
      "ef70aa6d406a4055934b90f7b107bd68",
      "3e54e15533834835b8c8d6031fbc619f",
      "b273f5b18196422782f07d7677108c3e",
      "7e0a2302445e4aeba492db7e67681c79",
      "6264759e76b34ebbafe0ed1d8355f51a",
      "27b7518be0b24de080ed554272943bd6",
      "7c2482dfe003483cb181ee1f69be7e26",
      "34d0da20037c46409a703bc8d16a6aa3"
     ]
    },
    "id": "NdHG8f51fXq1",
    "outputId": "ebc66797-99e7-451c-cad5-6241e1daa22d"
   },
   "outputs": [],
   "source": [
    "!pip install sentence_transformers\n",
    "!pip install tf-keras\n",
    "from sentence_transformers import SentenceTransformer\n",
    "\n",
    "model = SentenceTransformer('all-MiniLM-L6-v2')  # Lightweight, effective\n",
    "\n",
    "song_embeddings = model.encode(df['description'].tolist(), show_progress_bar=True)"
   ]
  },
  {
   "cell_type": "code",
   "execution_count": null,
   "metadata": {
    "id": "ypIPuHwpfaII"
   },
   "outputs": [],
   "source": [
    "def recommend_by_prompt(prompt, top_n=5):\n",
    "    query_embedding = model.encode([prompt])[0]\n",
    "    sims = cosine_similarity([query_embedding], song_embeddings)[0]\n",
    "    top_indices = sims.argsort()[::-1][:top_n]\n",
    "    return df.iloc[top_indices][['name', 'updated_artists', 'album.name']]"
   ]
  },
  {
   "cell_type": "code",
   "execution_count": null,
   "metadata": {
    "colab": {
     "base_uri": "https://localhost:8080/",
     "height": 206
    },
    "id": "4jolXp22g9LN",
    "outputId": "b49b4cd5-186d-4a59-d02a-c7eb4fb5627a"
   },
   "outputs": [],
   "source": [
    "# recommend_by_prompt(\"happy upbeat party song\", top_n=5)\n",
    "# # recommend_by_prompt(\"something mellow and sad\", top_n=5)\n",
    "# # recommend_by_prompt(\"romantic slow dance\", top_n=5)\n",
    "# recommend_by_prompt(\"Indian sad song\", top_n=5)\n",
    "recommend_by_prompt(\"Indian happy  song\", top_n=5)"
   ]
  },
  {
   "cell_type": "code",
   "execution_count": null,
   "metadata": {
    "id": "FgPVIut3hGsW"
   },
   "outputs": [],
   "source": []
  },
  {
   "cell_type": "code",
   "execution_count": null,
   "metadata": {
    "id": "VbgMPnGjjIBB"
   },
   "outputs": [],
   "source": []
  },
  {
   "cell_type": "code",
   "execution_count": null,
   "metadata": {
    "id": "yptnyzP7jH_A"
   },
   "outputs": [],
   "source": []
  },
  {
   "cell_type": "code",
   "execution_count": null,
   "metadata": {
    "id": "oGAnCsZGjH7L"
   },
   "outputs": [],
   "source": [
    "prompt = \"Indian sad song\"  # or any test phrase"
   ]
  },
  {
   "cell_type": "code",
   "execution_count": null,
   "metadata": {
    "id": "RTvhFUFBjIgl"
   },
   "outputs": [],
   "source": [
    "query_embedding = model.encode([prompt])[0]\n",
    "sims = cosine_similarity([query_embedding], song_embeddings)[0]"
   ]
  },
  {
   "cell_type": "code",
   "execution_count": null,
   "metadata": {
    "id": "hbfj8nWljWzr"
   },
   "outputs": [],
   "source": [
    "country_bias = 0.15  # Strength of boost; tune as needed\n",
    "bias = df['IN'] * country_bias  # 1 if in India, else 0\n",
    "biased_scores = sims + bias"
   ]
  },
  {
   "cell_type": "code",
   "execution_count": null,
   "metadata": {
    "id": "V21Xkmypjbu9"
   },
   "outputs": [],
   "source": [
    "top_n = 5  # or however many results you want\n",
    "top_indices = biased_scores.argsort()[::-1][:top_n]\n",
    "results = df.iloc[top_indices][['name', 'updated_artists', 'album.name', 'description']]"
   ]
  },
  {
   "cell_type": "code",
   "execution_count": null,
   "metadata": {
    "id": "CDgZyKJ4jch8"
   },
   "outputs": [],
   "source": [
    "def recommend_biased_by_country(prompt, country_code='IN', country_boost=0.15, top_n=5):\n",
    "    query_embedding = model.encode([prompt])[0]\n",
    "    sims = cosine_similarity([query_embedding], song_embeddings)[0]\n",
    "\n",
    "    # Add country bias softly\n",
    "    bias = df[country_code] * country_boost\n",
    "    biased_scores = sims + bias\n",
    "\n",
    "    top_indices = biased_scores.argsort()[::-1][:top_n]\n",
    "    return df.iloc[top_indices][['name', 'updated_artists', 'album.name', 'description']]"
   ]
  },
  {
   "cell_type": "code",
   "execution_count": null,
   "metadata": {
    "colab": {
     "base_uri": "https://localhost:8080/",
     "height": 206
    },
    "id": "a3PN_c92jmR5",
    "outputId": "aac1999b-83b9-4b63-d233-fa8e66f3ca5e"
   },
   "outputs": [],
   "source": [
    "recommend_biased_by_country(\"Arijit Singh\", country_code='IN', country_boost=0.9, top_n=5)"
   ]
  },
  {
   "cell_type": "code",
   "execution_count": null,
   "metadata": {
    "id": "39Amkg7OjxoB"
   },
   "outputs": [],
   "source": []
  },
  {
   "cell_type": "code",
   "execution_count": null,
   "metadata": {
    "id": "tPgsTbSzlSL2"
   },
   "outputs": [],
   "source": []
  },
  {
   "cell_type": "code",
   "execution_count": null,
   "metadata": {
    "id": "cF6_0d2DlSyb"
   },
   "outputs": [],
   "source": []
  },
  {
   "cell_type": "code",
   "execution_count": null,
   "metadata": {
    "colab": {
     "base_uri": "https://localhost:8080/",
     "height": 0
    },
    "id": "lIwLu7DOlSvc",
    "outputId": "b1a7f0a3-e96d-4ef9-d2fd-9f823e82f8ee"
   },
   "outputs": [],
   "source": [
    "pip install langdetect"
   ]
  },
  {
   "cell_type": "code",
   "execution_count": null,
   "metadata": {
    "id": "B02us4eqlTPL"
   },
   "outputs": [],
   "source": [
    "from sentence_transformers import SentenceTransformer\n",
    "from sklearn.metrics.pairwise import cosine_similarity\n",
    "from langdetect import detect, DetectorFactory\n",
    "\n",
    "DetectorFactory.seed = 0  # Make results consistent"
   ]
  },
  {
   "cell_type": "code",
   "execution_count": null,
   "metadata": {
    "id": "95h8oe1SlV5b"
   },
   "outputs": [],
   "source": [
    "language_to_country = {\n",
    "    'hi': 'IN',\n",
    "    'pa': 'IN',\n",
    "    'ta': 'IN',\n",
    "    'te': 'IN',\n",
    "    'en': 'US',\n",
    "    'es': 'ES',\n",
    "    'fr': 'FR',\n",
    "    'de': 'DE',\n",
    "    'ja': 'JP',\n",
    "    'ko': 'KR'\n",
    "}"
   ]
  },
  {
   "cell_type": "code",
   "execution_count": null,
   "metadata": {
    "id": "OYFm7lXGlo4B"
   },
   "outputs": [],
   "source": [
    "def detect_language(title):\n",
    "    try:\n",
    "        return detect(title)\n",
    "    except:\n",
    "        return 'unknown'\n",
    "\n",
    "df['detected_language'] = df['name'].apply(detect_language)\n",
    "df['country_code'] = df['detected_language'].apply(lambda lang: language_to_country.get(lang, 'IN'))  # fallback: IN"
   ]
  },
  {
   "cell_type": "code",
   "execution_count": null,
   "metadata": {
    "id": "bo_m-l8-lqZ6"
   },
   "outputs": [],
   "source": [
    "df['description'] = (\n",
    "    df['name'] + ' by ' + df['updated_artists'].apply(lambda x: ', '.join(x)) +\n",
    "    '. Language: ' + df['detected_language'] +\n",
    "    '. Energy: ' + df['energy'].round(2).astype(str) +\n",
    "    ', Danceability: ' + df['danceability'].round(2).astype(str) +\n",
    "    ', Valence: ' + df['valence'].round(2).astype(str)\n",
    ")"
   ]
  },
  {
   "cell_type": "code",
   "execution_count": null,
   "metadata": {
    "colab": {
     "base_uri": "https://localhost:8080/",
     "height": 49,
     "referenced_widgets": [
      "a6396652c8914fe89dc7afbbee200e3b",
      "f74f3d4a02db4119a70e4b791cdcc339",
      "c0c21907e85e4a17a52dc8e9b628c8a4",
      "1dd526acc7da48529a368439284a1fc4",
      "8606f530695443ff9c528ef13369a513",
      "e1dba03b1ff74ca595f6f82101b8efdb",
      "329f9af8581e4af2babc87ef6c12ff56",
      "f586032af5074548b682796308395368",
      "bce9e01d553f42e89c49bdca984e832e",
      "a11c90efd43143d2b68f23dc4beaacd5",
      "c8482df2674c40c789c3f289542306ab"
     ]
    },
    "id": "RmqmeGOQlsd7",
    "outputId": "6acd67ef-1182-4c62-dc19-ccd1faafce64"
   },
   "outputs": [],
   "source": [
    "model = SentenceTransformer('all-MiniLM-L6-v2')\n",
    "song_embeddings = model.encode(df['description'].tolist(), show_progress_bar=True)"
   ]
  },
  {
   "cell_type": "code",
   "execution_count": null,
   "metadata": {
    "id": "l4WpWPB2luB4"
   },
   "outputs": [],
   "source": [
    "def smart_recommend(prompt, country_boost=0.2, top_n=5):\n",
    "    query_embedding = model.encode([prompt])[0]\n",
    "    sims = cosine_similarity([query_embedding], song_embeddings)[0]\n",
    "\n",
    "    # Detect country from prompt\n",
    "    try:\n",
    "        prompt_lang = detect(prompt)\n",
    "    except:\n",
    "        prompt_lang = 'unknown'\n",
    "\n",
    "    prompt_country = language_to_country.get(prompt_lang, 'IN')\n",
    "\n",
    "    # Apply bias using country column\n",
    "    bias = df[prompt_country] * country_boost if prompt_country in df.columns else 0\n",
    "    biased_scores = sims + bias\n",
    "\n",
    "    top_indices = biased_scores.argsort()[::-1][:top_n]\n",
    "    return df.iloc[top_indices][['name', 'updated_artists', 'album.name', 'description', 'detected_language']]"
   ]
  },
  {
   "cell_type": "code",
   "execution_count": null,
   "metadata": {
    "colab": {
     "base_uri": "https://localhost:8080/",
     "height": 276
    },
    "id": "vbkgGbZKlxbW",
    "outputId": "c55dbdb6-243b-4961-cd10-2ca4992ca22c"
   },
   "outputs": [],
   "source": [
    "smart_recommend(\"happy hindi song Atif Aslam\")"
   ]
  },
  {
   "cell_type": "code",
   "execution_count": null,
   "metadata": {
    "colab": {
     "base_uri": "https://localhost:8080/",
     "height": 206
    },
    "id": "c3hn-cSBlzGB",
    "outputId": "cad8cde4-5f34-4607-e7a4-5e6796f36db7"
   },
   "outputs": [],
   "source": [
    "smart_recommend(\"Punjabi party track\")\n"
   ]
  },
  {
   "cell_type": "code",
   "execution_count": null,
   "metadata": {
    "colab": {
     "base_uri": "https://localhost:8080/",
     "height": 0
    },
    "id": "BAsDYqJOoiNj",
    "outputId": "68e5dcd1-721c-42a8-a5bf-6bd37b8ebfb4"
   },
   "outputs": [],
   "source": [
    "!pip install wordcloud"
   ]
  },
  {
   "cell_type": "code",
   "execution_count": null,
   "metadata": {
    "colab": {
     "base_uri": "https://localhost:8080/",
     "height": 603
    },
    "id": "tGi6ENUSK5_q",
    "outputId": "43287b47-9c5b-40ca-a7ef-8cf0f08d13b6"
   },
   "outputs": [],
   "source": [
    "from wordcloud import WordCloud\n",
    "import matplotlib.pyplot as plt\n",
    "\n",
    "# Combine all artist names into a single string\n",
    "text = \" \".join(artist for artist in df[\"updated_artists\"].astype(str))\n",
    "\n",
    "# Generate the word cloud\n",
    "wordcloud = WordCloud(width=800, height=400, background_color='white', colormap='viridis').generate(text)\n",
    "\n",
    "# Display the word cloud\n",
    "plt.figure(figsize=(15, 7))\n",
    "plt.imshow(wordcloud, interpolation='bilinear')\n",
    "plt.axis(\"off\")\n",
    "plt.title(\"Most Frequent Spotify Artists in Dataset\", fontsize=18)\n",
    "plt.show()"
   ]
  },
  {
   "cell_type": "code",
   "execution_count": null,
   "metadata": {
    "colab": {
     "base_uri": "https://localhost:8080/",
     "height": 785
    },
    "id": "wIGANg50LCq5",
    "outputId": "b3409e30-20ca-4346-c8a3-0e129582dedf"
   },
   "outputs": [],
   "source": [
    "import seaborn as sns\n",
    "import matplotlib.pyplot as plt\n",
    "\n",
    "# Select only numeric columns\n",
    "numeric_df = df.select_dtypes(include=['float64', 'int64'])\n",
    "\n",
    "# Compute correlation matrix\n",
    "corr_matrix = numeric_df.corr()\n",
    "\n",
    "# Plot the heatmap\n",
    "plt.figure(figsize=(12, 8))\n",
    "sns.heatmap(corr_matrix, annot=True, fmt=\".2f\", cmap=\"coolwarm\", linewidths=0.5)\n",
    "plt.title(\"Correlation Heatmap of Spotify Numeric Features\", fontsize=16)\n",
    "plt.show()"
   ]
  },
  {
   "cell_type": "code",
   "execution_count": null,
   "metadata": {
    "colab": {
     "base_uri": "https://localhost:8080/",
     "height": 720
    },
    "id": "m2uEEBVwLDXT",
    "outputId": "1a7ede94-757b-4c8d-de58-c1235bf75445"
   },
   "outputs": [],
   "source": [
    "from sklearn.decomposition import PCA\n",
    "from sklearn.preprocessing import StandardScaler\n",
    "import matplotlib.pyplot as plt\n",
    "\n",
    "# Select numeric features and standardize them\n",
    "features = df.select_dtypes(include=['float64', 'int64'])\n",
    "scaled_features = StandardScaler().fit_transform(features)\n",
    "\n",
    "# Apply PCA\n",
    "pca = PCA(n_components=2)\n",
    "pca_result = pca.fit_transform(scaled_features)\n",
    "\n",
    "# Add PCA results to the dataframe\n",
    "df['PCA1'] = pca_result[:, 0]\n",
    "df['PCA2'] = pca_result[:, 1]\n",
    "\n",
    "# Plot the PCA result\n",
    "plt.figure(figsize=(12, 8))\n",
    "plt.scatter(df['PCA1'], df['PCA2'], alpha=0.5, edgecolors='k')\n",
    "plt.title('PCA Visualization of Spotify Songs', fontsize=16)\n",
    "plt.xlabel('Principal Component 1')\n",
    "plt.ylabel('Principal Component 2')\n",
    "plt.grid(True)\n",
    "plt.show()"
   ]
  },
  {
   "cell_type": "code",
   "execution_count": null,
   "metadata": {
    "colab": {
     "base_uri": "https://localhost:8080/",
     "height": 678
    },
    "id": "QMQ7N9A6PI_2",
    "outputId": "eefeba59-0cde-4888-dda2-d62eb45014ce"
   },
   "outputs": [],
   "source": [
    "selected_cols = ['danceability', 'energy', 'loudness', 'speechiness', 'acousticness', 'instrumentalness', 'valence', 'tempo']\n",
    "corr = df[selected_cols].corr()\n",
    "\n",
    "plt.figure(figsize=(10, 6))\n",
    "sns.heatmap(corr, annot=True, cmap=\"YlGnBu\", fmt=\".2f\", square=True, cbar_kws={\"shrink\": 0.75})\n",
    "plt.title(\"🎧 Correlation of Key Spotify Features\", fontsize=18)\n",
    "plt.xticks(rotation=45)\n",
    "plt.yticks(rotation=0)\n",
    "plt.tight_layout()\n",
    "plt.show()"
   ]
  },
  {
   "cell_type": "code",
   "execution_count": null,
   "metadata": {
    "colab": {
     "base_uri": "https://localhost:8080/",
     "height": 878
    },
    "id": "ROe4EI2UPP0i",
    "outputId": "3833a8ab-785c-44d5-afc7-d6d27eebc30a"
   },
   "outputs": [],
   "source": [
    "plt.figure(figsize=(12, 8))\n",
    "plt.scatter(df['PCA1'], df['PCA2'], alpha=0.6, c='darkcyan', edgecolors='w', s=80)\n",
    "plt.title(\"🌀 PCA Clustering of Songs\", fontsize=18)\n",
    "plt.xlabel(\"Principal Component 1\")\n",
    "plt.ylabel(\"Principal Component 2\")\n",
    "plt.grid(True, linestyle='--', alpha=0.4)\n",
    "plt.tight_layout()\n",
    "plt.show()"
   ]
  },
  {
   "cell_type": "code",
   "execution_count": null,
   "metadata": {
    "id": "B5KgucTv35TO"
   },
   "outputs": [],
   "source": []
  }
 ],
 "metadata": {
  "accelerator": "TPU",
  "colab": {
   "gpuType": "V28",
   "provenance": []
  },
  "kernelspec": {
   "display_name": "Python 3",
   "name": "python3"
  },
  "language_info": {
   "codemirror_mode": {
    "name": "ipython",
    "version": 3
   },
   "file_extension": ".py",
   "mimetype": "text/x-python",
   "name": "python",
   "nbconvert_exporter": "python",
   "pygments_lexer": "ipython3",
   "version": "3.13.1"
  },
  "widgets": {
   "application/vnd.jupyter.widget-state+json": {
    "1dd526acc7da48529a368439284a1fc4": {
     "model_module": "@jupyter-widgets/controls",
     "model_module_version": "1.5.0",
     "model_name": "HTMLModel",
     "state": {
      "_dom_classes": [],
      "_model_module": "@jupyter-widgets/controls",
      "_model_module_version": "1.5.0",
      "_model_name": "HTMLModel",
      "_view_count": null,
      "_view_module": "@jupyter-widgets/controls",
      "_view_module_version": "1.5.0",
      "_view_name": "HTMLView",
      "description": "",
      "description_tooltip": null,
      "layout": "IPY_MODEL_a11c90efd43143d2b68f23dc4beaacd5",
      "placeholder": "​",
      "style": "IPY_MODEL_c8482df2674c40c789c3f289542306ab",
      "value": " 369/369 [06:52&lt;00:00,  1.26it/s]"
     }
    },
    "27b7518be0b24de080ed554272943bd6": {
     "model_module": "@jupyter-widgets/controls",
     "model_module_version": "1.5.0",
     "model_name": "ProgressStyleModel",
     "state": {
      "_model_module": "@jupyter-widgets/controls",
      "_model_module_version": "1.5.0",
      "_model_name": "ProgressStyleModel",
      "_view_count": null,
      "_view_module": "@jupyter-widgets/base",
      "_view_module_version": "1.2.0",
      "_view_name": "StyleView",
      "bar_color": null,
      "description_width": ""
     }
    },
    "329f9af8581e4af2babc87ef6c12ff56": {
     "model_module": "@jupyter-widgets/controls",
     "model_module_version": "1.5.0",
     "model_name": "DescriptionStyleModel",
     "state": {
      "_model_module": "@jupyter-widgets/controls",
      "_model_module_version": "1.5.0",
      "_model_name": "DescriptionStyleModel",
      "_view_count": null,
      "_view_module": "@jupyter-widgets/base",
      "_view_module_version": "1.2.0",
      "_view_name": "StyleView",
      "description_width": ""
     }
    },
    "34d0da20037c46409a703bc8d16a6aa3": {
     "model_module": "@jupyter-widgets/controls",
     "model_module_version": "1.5.0",
     "model_name": "DescriptionStyleModel",
     "state": {
      "_model_module": "@jupyter-widgets/controls",
      "_model_module_version": "1.5.0",
      "_model_name": "DescriptionStyleModel",
      "_view_count": null,
      "_view_module": "@jupyter-widgets/base",
      "_view_module_version": "1.2.0",
      "_view_name": "StyleView",
      "description_width": ""
     }
    },
    "3e54e15533834835b8c8d6031fbc619f": {
     "model_module": "@jupyter-widgets/base",
     "model_module_version": "1.2.0",
     "model_name": "LayoutModel",
     "state": {
      "_model_module": "@jupyter-widgets/base",
      "_model_module_version": "1.2.0",
      "_model_name": "LayoutModel",
      "_view_count": null,
      "_view_module": "@jupyter-widgets/base",
      "_view_module_version": "1.2.0",
      "_view_name": "LayoutView",
      "align_content": null,
      "align_items": null,
      "align_self": null,
      "border": null,
      "bottom": null,
      "display": null,
      "flex": null,
      "flex_flow": null,
      "grid_area": null,
      "grid_auto_columns": null,
      "grid_auto_flow": null,
      "grid_auto_rows": null,
      "grid_column": null,
      "grid_gap": null,
      "grid_row": null,
      "grid_template_areas": null,
      "grid_template_columns": null,
      "grid_template_rows": null,
      "height": null,
      "justify_content": null,
      "justify_items": null,
      "left": null,
      "margin": null,
      "max_height": null,
      "max_width": null,
      "min_height": null,
      "min_width": null,
      "object_fit": null,
      "object_position": null,
      "order": null,
      "overflow": null,
      "overflow_x": null,
      "overflow_y": null,
      "padding": null,
      "right": null,
      "top": null,
      "visibility": null,
      "width": null
     }
    },
    "43965e71beda42d7af47dff57c19fc06": {
     "model_module": "@jupyter-widgets/controls",
     "model_module_version": "1.5.0",
     "model_name": "HTMLModel",
     "state": {
      "_dom_classes": [],
      "_model_module": "@jupyter-widgets/controls",
      "_model_module_version": "1.5.0",
      "_model_name": "HTMLModel",
      "_view_count": null,
      "_view_module": "@jupyter-widgets/controls",
      "_view_module_version": "1.5.0",
      "_view_name": "HTMLView",
      "description": "",
      "description_tooltip": null,
      "layout": "IPY_MODEL_b273f5b18196422782f07d7677108c3e",
      "placeholder": "​",
      "style": "IPY_MODEL_7e0a2302445e4aeba492db7e67681c79",
      "value": "Batches: 100%"
     }
    },
    "6264759e76b34ebbafe0ed1d8355f51a": {
     "model_module": "@jupyter-widgets/base",
     "model_module_version": "1.2.0",
     "model_name": "LayoutModel",
     "state": {
      "_model_module": "@jupyter-widgets/base",
      "_model_module_version": "1.2.0",
      "_model_name": "LayoutModel",
      "_view_count": null,
      "_view_module": "@jupyter-widgets/base",
      "_view_module_version": "1.2.0",
      "_view_name": "LayoutView",
      "align_content": null,
      "align_items": null,
      "align_self": null,
      "border": null,
      "bottom": null,
      "display": null,
      "flex": null,
      "flex_flow": null,
      "grid_area": null,
      "grid_auto_columns": null,
      "grid_auto_flow": null,
      "grid_auto_rows": null,
      "grid_column": null,
      "grid_gap": null,
      "grid_row": null,
      "grid_template_areas": null,
      "grid_template_columns": null,
      "grid_template_rows": null,
      "height": null,
      "justify_content": null,
      "justify_items": null,
      "left": null,
      "margin": null,
      "max_height": null,
      "max_width": null,
      "min_height": null,
      "min_width": null,
      "object_fit": null,
      "object_position": null,
      "order": null,
      "overflow": null,
      "overflow_x": null,
      "overflow_y": null,
      "padding": null,
      "right": null,
      "top": null,
      "visibility": null,
      "width": null
     }
    },
    "7c2482dfe003483cb181ee1f69be7e26": {
     "model_module": "@jupyter-widgets/base",
     "model_module_version": "1.2.0",
     "model_name": "LayoutModel",
     "state": {
      "_model_module": "@jupyter-widgets/base",
      "_model_module_version": "1.2.0",
      "_model_name": "LayoutModel",
      "_view_count": null,
      "_view_module": "@jupyter-widgets/base",
      "_view_module_version": "1.2.0",
      "_view_name": "LayoutView",
      "align_content": null,
      "align_items": null,
      "align_self": null,
      "border": null,
      "bottom": null,
      "display": null,
      "flex": null,
      "flex_flow": null,
      "grid_area": null,
      "grid_auto_columns": null,
      "grid_auto_flow": null,
      "grid_auto_rows": null,
      "grid_column": null,
      "grid_gap": null,
      "grid_row": null,
      "grid_template_areas": null,
      "grid_template_columns": null,
      "grid_template_rows": null,
      "height": null,
      "justify_content": null,
      "justify_items": null,
      "left": null,
      "margin": null,
      "max_height": null,
      "max_width": null,
      "min_height": null,
      "min_width": null,
      "object_fit": null,
      "object_position": null,
      "order": null,
      "overflow": null,
      "overflow_x": null,
      "overflow_y": null,
      "padding": null,
      "right": null,
      "top": null,
      "visibility": null,
      "width": null
     }
    },
    "7e0a2302445e4aeba492db7e67681c79": {
     "model_module": "@jupyter-widgets/controls",
     "model_module_version": "1.5.0",
     "model_name": "DescriptionStyleModel",
     "state": {
      "_model_module": "@jupyter-widgets/controls",
      "_model_module_version": "1.5.0",
      "_model_name": "DescriptionStyleModel",
      "_view_count": null,
      "_view_module": "@jupyter-widgets/base",
      "_view_module_version": "1.2.0",
      "_view_name": "StyleView",
      "description_width": ""
     }
    },
    "8606f530695443ff9c528ef13369a513": {
     "model_module": "@jupyter-widgets/base",
     "model_module_version": "1.2.0",
     "model_name": "LayoutModel",
     "state": {
      "_model_module": "@jupyter-widgets/base",
      "_model_module_version": "1.2.0",
      "_model_name": "LayoutModel",
      "_view_count": null,
      "_view_module": "@jupyter-widgets/base",
      "_view_module_version": "1.2.0",
      "_view_name": "LayoutView",
      "align_content": null,
      "align_items": null,
      "align_self": null,
      "border": null,
      "bottom": null,
      "display": null,
      "flex": null,
      "flex_flow": null,
      "grid_area": null,
      "grid_auto_columns": null,
      "grid_auto_flow": null,
      "grid_auto_rows": null,
      "grid_column": null,
      "grid_gap": null,
      "grid_row": null,
      "grid_template_areas": null,
      "grid_template_columns": null,
      "grid_template_rows": null,
      "height": null,
      "justify_content": null,
      "justify_items": null,
      "left": null,
      "margin": null,
      "max_height": null,
      "max_width": null,
      "min_height": null,
      "min_width": null,
      "object_fit": null,
      "object_position": null,
      "order": null,
      "overflow": null,
      "overflow_x": null,
      "overflow_y": null,
      "padding": null,
      "right": null,
      "top": null,
      "visibility": null,
      "width": null
     }
    },
    "a11c90efd43143d2b68f23dc4beaacd5": {
     "model_module": "@jupyter-widgets/base",
     "model_module_version": "1.2.0",
     "model_name": "LayoutModel",
     "state": {
      "_model_module": "@jupyter-widgets/base",
      "_model_module_version": "1.2.0",
      "_model_name": "LayoutModel",
      "_view_count": null,
      "_view_module": "@jupyter-widgets/base",
      "_view_module_version": "1.2.0",
      "_view_name": "LayoutView",
      "align_content": null,
      "align_items": null,
      "align_self": null,
      "border": null,
      "bottom": null,
      "display": null,
      "flex": null,
      "flex_flow": null,
      "grid_area": null,
      "grid_auto_columns": null,
      "grid_auto_flow": null,
      "grid_auto_rows": null,
      "grid_column": null,
      "grid_gap": null,
      "grid_row": null,
      "grid_template_areas": null,
      "grid_template_columns": null,
      "grid_template_rows": null,
      "height": null,
      "justify_content": null,
      "justify_items": null,
      "left": null,
      "margin": null,
      "max_height": null,
      "max_width": null,
      "min_height": null,
      "min_width": null,
      "object_fit": null,
      "object_position": null,
      "order": null,
      "overflow": null,
      "overflow_x": null,
      "overflow_y": null,
      "padding": null,
      "right": null,
      "top": null,
      "visibility": null,
      "width": null
     }
    },
    "a6396652c8914fe89dc7afbbee200e3b": {
     "model_module": "@jupyter-widgets/controls",
     "model_module_version": "1.5.0",
     "model_name": "HBoxModel",
     "state": {
      "_dom_classes": [],
      "_model_module": "@jupyter-widgets/controls",
      "_model_module_version": "1.5.0",
      "_model_name": "HBoxModel",
      "_view_count": null,
      "_view_module": "@jupyter-widgets/controls",
      "_view_module_version": "1.5.0",
      "_view_name": "HBoxView",
      "box_style": "",
      "children": [
       "IPY_MODEL_f74f3d4a02db4119a70e4b791cdcc339",
       "IPY_MODEL_c0c21907e85e4a17a52dc8e9b628c8a4",
       "IPY_MODEL_1dd526acc7da48529a368439284a1fc4"
      ],
      "layout": "IPY_MODEL_8606f530695443ff9c528ef13369a513"
     }
    },
    "aecff967522b460b8100d65bb41e809b": {
     "model_module": "@jupyter-widgets/controls",
     "model_module_version": "1.5.0",
     "model_name": "FloatProgressModel",
     "state": {
      "_dom_classes": [],
      "_model_module": "@jupyter-widgets/controls",
      "_model_module_version": "1.5.0",
      "_model_name": "FloatProgressModel",
      "_view_count": null,
      "_view_module": "@jupyter-widgets/controls",
      "_view_module_version": "1.5.0",
      "_view_name": "ProgressView",
      "bar_style": "success",
      "description": "",
      "description_tooltip": null,
      "layout": "IPY_MODEL_6264759e76b34ebbafe0ed1d8355f51a",
      "max": 369,
      "min": 0,
      "orientation": "horizontal",
      "style": "IPY_MODEL_27b7518be0b24de080ed554272943bd6",
      "value": 369
     }
    },
    "b273f5b18196422782f07d7677108c3e": {
     "model_module": "@jupyter-widgets/base",
     "model_module_version": "1.2.0",
     "model_name": "LayoutModel",
     "state": {
      "_model_module": "@jupyter-widgets/base",
      "_model_module_version": "1.2.0",
      "_model_name": "LayoutModel",
      "_view_count": null,
      "_view_module": "@jupyter-widgets/base",
      "_view_module_version": "1.2.0",
      "_view_name": "LayoutView",
      "align_content": null,
      "align_items": null,
      "align_self": null,
      "border": null,
      "bottom": null,
      "display": null,
      "flex": null,
      "flex_flow": null,
      "grid_area": null,
      "grid_auto_columns": null,
      "grid_auto_flow": null,
      "grid_auto_rows": null,
      "grid_column": null,
      "grid_gap": null,
      "grid_row": null,
      "grid_template_areas": null,
      "grid_template_columns": null,
      "grid_template_rows": null,
      "height": null,
      "justify_content": null,
      "justify_items": null,
      "left": null,
      "margin": null,
      "max_height": null,
      "max_width": null,
      "min_height": null,
      "min_width": null,
      "object_fit": null,
      "object_position": null,
      "order": null,
      "overflow": null,
      "overflow_x": null,
      "overflow_y": null,
      "padding": null,
      "right": null,
      "top": null,
      "visibility": null,
      "width": null
     }
    },
    "bce9e01d553f42e89c49bdca984e832e": {
     "model_module": "@jupyter-widgets/controls",
     "model_module_version": "1.5.0",
     "model_name": "ProgressStyleModel",
     "state": {
      "_model_module": "@jupyter-widgets/controls",
      "_model_module_version": "1.5.0",
      "_model_name": "ProgressStyleModel",
      "_view_count": null,
      "_view_module": "@jupyter-widgets/base",
      "_view_module_version": "1.2.0",
      "_view_name": "StyleView",
      "bar_color": null,
      "description_width": ""
     }
    },
    "c0c21907e85e4a17a52dc8e9b628c8a4": {
     "model_module": "@jupyter-widgets/controls",
     "model_module_version": "1.5.0",
     "model_name": "FloatProgressModel",
     "state": {
      "_dom_classes": [],
      "_model_module": "@jupyter-widgets/controls",
      "_model_module_version": "1.5.0",
      "_model_name": "FloatProgressModel",
      "_view_count": null,
      "_view_module": "@jupyter-widgets/controls",
      "_view_module_version": "1.5.0",
      "_view_name": "ProgressView",
      "bar_style": "success",
      "description": "",
      "description_tooltip": null,
      "layout": "IPY_MODEL_f586032af5074548b682796308395368",
      "max": 369,
      "min": 0,
      "orientation": "horizontal",
      "style": "IPY_MODEL_bce9e01d553f42e89c49bdca984e832e",
      "value": 369
     }
    },
    "c8482df2674c40c789c3f289542306ab": {
     "model_module": "@jupyter-widgets/controls",
     "model_module_version": "1.5.0",
     "model_name": "DescriptionStyleModel",
     "state": {
      "_model_module": "@jupyter-widgets/controls",
      "_model_module_version": "1.5.0",
      "_model_name": "DescriptionStyleModel",
      "_view_count": null,
      "_view_module": "@jupyter-widgets/base",
      "_view_module_version": "1.2.0",
      "_view_name": "StyleView",
      "description_width": ""
     }
    },
    "e1dba03b1ff74ca595f6f82101b8efdb": {
     "model_module": "@jupyter-widgets/base",
     "model_module_version": "1.2.0",
     "model_name": "LayoutModel",
     "state": {
      "_model_module": "@jupyter-widgets/base",
      "_model_module_version": "1.2.0",
      "_model_name": "LayoutModel",
      "_view_count": null,
      "_view_module": "@jupyter-widgets/base",
      "_view_module_version": "1.2.0",
      "_view_name": "LayoutView",
      "align_content": null,
      "align_items": null,
      "align_self": null,
      "border": null,
      "bottom": null,
      "display": null,
      "flex": null,
      "flex_flow": null,
      "grid_area": null,
      "grid_auto_columns": null,
      "grid_auto_flow": null,
      "grid_auto_rows": null,
      "grid_column": null,
      "grid_gap": null,
      "grid_row": null,
      "grid_template_areas": null,
      "grid_template_columns": null,
      "grid_template_rows": null,
      "height": null,
      "justify_content": null,
      "justify_items": null,
      "left": null,
      "margin": null,
      "max_height": null,
      "max_width": null,
      "min_height": null,
      "min_width": null,
      "object_fit": null,
      "object_position": null,
      "order": null,
      "overflow": null,
      "overflow_x": null,
      "overflow_y": null,
      "padding": null,
      "right": null,
      "top": null,
      "visibility": null,
      "width": null
     }
    },
    "e5e54d04f17642fdaa48d586a82697ec": {
     "model_module": "@jupyter-widgets/controls",
     "model_module_version": "1.5.0",
     "model_name": "HBoxModel",
     "state": {
      "_dom_classes": [],
      "_model_module": "@jupyter-widgets/controls",
      "_model_module_version": "1.5.0",
      "_model_name": "HBoxModel",
      "_view_count": null,
      "_view_module": "@jupyter-widgets/controls",
      "_view_module_version": "1.5.0",
      "_view_name": "HBoxView",
      "box_style": "",
      "children": [
       "IPY_MODEL_43965e71beda42d7af47dff57c19fc06",
       "IPY_MODEL_aecff967522b460b8100d65bb41e809b",
       "IPY_MODEL_ef70aa6d406a4055934b90f7b107bd68"
      ],
      "layout": "IPY_MODEL_3e54e15533834835b8c8d6031fbc619f"
     }
    },
    "ef70aa6d406a4055934b90f7b107bd68": {
     "model_module": "@jupyter-widgets/controls",
     "model_module_version": "1.5.0",
     "model_name": "HTMLModel",
     "state": {
      "_dom_classes": [],
      "_model_module": "@jupyter-widgets/controls",
      "_model_module_version": "1.5.0",
      "_model_name": "HTMLModel",
      "_view_count": null,
      "_view_module": "@jupyter-widgets/controls",
      "_view_module_version": "1.5.0",
      "_view_name": "HTMLView",
      "description": "",
      "description_tooltip": null,
      "layout": "IPY_MODEL_7c2482dfe003483cb181ee1f69be7e26",
      "placeholder": "​",
      "style": "IPY_MODEL_34d0da20037c46409a703bc8d16a6aa3",
      "value": " 369/369 [06:03&lt;00:00,  1.44it/s]"
     }
    },
    "f586032af5074548b682796308395368": {
     "model_module": "@jupyter-widgets/base",
     "model_module_version": "1.2.0",
     "model_name": "LayoutModel",
     "state": {
      "_model_module": "@jupyter-widgets/base",
      "_model_module_version": "1.2.0",
      "_model_name": "LayoutModel",
      "_view_count": null,
      "_view_module": "@jupyter-widgets/base",
      "_view_module_version": "1.2.0",
      "_view_name": "LayoutView",
      "align_content": null,
      "align_items": null,
      "align_self": null,
      "border": null,
      "bottom": null,
      "display": null,
      "flex": null,
      "flex_flow": null,
      "grid_area": null,
      "grid_auto_columns": null,
      "grid_auto_flow": null,
      "grid_auto_rows": null,
      "grid_column": null,
      "grid_gap": null,
      "grid_row": null,
      "grid_template_areas": null,
      "grid_template_columns": null,
      "grid_template_rows": null,
      "height": null,
      "justify_content": null,
      "justify_items": null,
      "left": null,
      "margin": null,
      "max_height": null,
      "max_width": null,
      "min_height": null,
      "min_width": null,
      "object_fit": null,
      "object_position": null,
      "order": null,
      "overflow": null,
      "overflow_x": null,
      "overflow_y": null,
      "padding": null,
      "right": null,
      "top": null,
      "visibility": null,
      "width": null
     }
    },
    "f74f3d4a02db4119a70e4b791cdcc339": {
     "model_module": "@jupyter-widgets/controls",
     "model_module_version": "1.5.0",
     "model_name": "HTMLModel",
     "state": {
      "_dom_classes": [],
      "_model_module": "@jupyter-widgets/controls",
      "_model_module_version": "1.5.0",
      "_model_name": "HTMLModel",
      "_view_count": null,
      "_view_module": "@jupyter-widgets/controls",
      "_view_module_version": "1.5.0",
      "_view_name": "HTMLView",
      "description": "",
      "description_tooltip": null,
      "layout": "IPY_MODEL_e1dba03b1ff74ca595f6f82101b8efdb",
      "placeholder": "​",
      "style": "IPY_MODEL_329f9af8581e4af2babc87ef6c12ff56",
      "value": "Batches: 100%"
     }
    }
   }
  }
 },
 "nbformat": 4,
 "nbformat_minor": 0
}
