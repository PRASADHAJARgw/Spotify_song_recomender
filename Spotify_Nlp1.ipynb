{
 "cells": [
  {
   "cell_type": "code",
   "execution_count": null,
   "metadata": {
    "colab": {
     "base_uri": "https://localhost:8080/"
    },
    "id": "dzbqoN9syFDc",
    "outputId": "3e5a3c1f-cbf1-4dc9-ca26-fc127b84dea5"
   },
   "outputs": [],
   "source": [
    "import pandas as pd\n",
    "import numpy as np\n",
    "import gdown\n",
    "# https://drive.google.com/file/d/1JhMQl_ZKg7PQjB-I_I41ngH1fLgFPlz_/view?usp=drive_link\n",
    "file_id = \"1JhMQl_ZKg7PQjB-I_I41ngH1fLgFPlz_\"\n",
    "download_url = f\"https://drive.google.com/uc?id={file_id}\"\n",
    "\n",
    "output = \"data.csv\"\n",
    "gdown.download(download_url, output, quiet=False)\n",
    "pd.set_option('display.max_columns', None)\n",
    "df = pd.read_csv(\"data.csv\", encoding='ISO-8859-1')"
   ]
  },
  {
   "cell_type": "code",
   "execution_count": null,
   "metadata": {
    "colab": {
     "base_uri": "https://localhost:8080/",
     "height": 418
    },
    "id": "TgeCQaZNzrs2",
    "outputId": "24e68319-a5da-4e5a-85c6-0580b8f78f61"
   },
   "outputs": [],
   "source": [
    "df = pd.read_csv(\"data.csv\", encoding='ISO-8859-1')\n",
    "df.head()"
   ]
  },
  {
   "cell_type": "code",
   "execution_count": null,
   "metadata": {
    "id": "TThby-_20DZK"
   },
   "outputs": [],
   "source": [
    "# df = pd.read_csv(\"data.csv\", encoding='cp1252')"
   ]
  },
  {
   "cell_type": "code",
   "execution_count": null,
   "metadata": {
    "id": "Icl-FDmZinPJ"
   },
   "outputs": [],
   "source": [
    "df.dropna(inplace=True)"
   ]
  },
  {
   "cell_type": "code",
   "execution_count": null,
   "metadata": {
    "colab": {
     "base_uri": "https://localhost:8080/",
     "height": 115
    },
    "id": "6--1G6H7kNgv",
    "outputId": "2846e4c5-3368-476b-8e9d-c755b23ba729"
   },
   "outputs": [],
   "source": [
    "a=df[\"artists\"].head(1)\n",
    "a"
   ]
  },
  {
   "cell_type": "code",
   "execution_count": null,
   "metadata": {
    "id": "rt1BO2Yn0Iyw"
   },
   "outputs": [],
   "source": [
    "def clean_artists_column(artist_string):\n",
    "    if pd.isna(artist_string):\n",
    "        return []\n",
    "\n",
    "    items = [item.strip() for item in artist_string.split(\",\")]\n",
    "\n",
    "    prefixes_to_remove = [\n",
    "        \"https://api.spotify.com/v1/artists/\",\n",
    "        \"spotify:artist:\",\n",
    "        \"https://open.spotify.com/artist/\"\n",
    "    ]\n",
    "\n",
    "    cleaned_items = []\n",
    "    for item in items:\n",
    "        for prefix in prefixes_to_remove:\n",
    "            if item.startswith(prefix):\n",
    "                item = item.replace(prefix, \"\")\n",
    "        cleaned_items.append(item)\n",
    "\n",
    "    final_items = [item for item in cleaned_items if item.lower() != \"artist\"]\n",
    "    seen = set()\n",
    "    unique_items = []\n",
    "    for item in final_items:\n",
    "        if item not in seen:\n",
    "            unique_items.append(item)\n",
    "            seen.add(item)\n",
    "\n",
    "    return unique_items\n",
    "df['updated_artists'] = df['artists'].apply(clean_artists_column)"
   ]
  },
  {
   "cell_type": "code",
   "execution_count": null,
   "metadata": {
    "id": "94NDMlX7LJ7t"
   },
   "outputs": [],
   "source": [
    "df['available_markets'] = df['available_markets'].str.split(', ')\n",
    "from sklearn.preprocessing import MultiLabelBinarizer\n",
    "\n",
    "mlb = MultiLabelBinarizer()\n",
    "market_dummies = pd.DataFrame(mlb.fit_transform(df['available_markets']),\n",
    "                              columns=mlb.classes_,\n",
    "                              index=df.index)\n",
    "df = df.join(market_dummies)"
   ]
  },
  {
   "cell_type": "code",
   "execution_count": null,
   "metadata": {
    "id": "1PBt9x07I9dR"
   },
   "outputs": [],
   "source": [
    "df.columns\n",
    "df.drop(columns=[\"artists\",\"uri.x\",\"is_local\",\"type.x\",\"href\",\"album.artists\",\"album.href\",\"album.images\",\"album.uri\",\"album.external_urls.spotify\",\"external_urls.spotify\",\"uri.y\",\"track_href\",\"analysis_url\",\"preview_url\",\"album.available_markets\",\"available_markets\"],inplace=True)"
   ]
  },
  {
   "cell_type": "code",
   "execution_count": null,
   "metadata": {
    "colab": {
     "base_uri": "https://localhost:8080/",
     "height": 313
    },
    "id": "g4xIYtc-K3Sx",
    "outputId": "66c79292-5add-4ddc-ccd0-583caa09b7f7"
   },
   "outputs": [],
   "source": [
    "df.head()"
   ]
  },
  {
   "cell_type": "code",
   "execution_count": null,
   "metadata": {
    "colab": {
     "base_uri": "https://localhost:8080/",
     "height": 210
    },
    "id": "B2DesMKcO_ye",
    "outputId": "15f65688-acbc-4b8c-981d-169b478959ac"
   },
   "outputs": [],
   "source": [
    "df[\"album.release_date_precision\"].value_counts()"
   ]
  },
  {
   "cell_type": "code",
   "execution_count": null,
   "metadata": {
    "id": "DLvRnjl7L5Nf"
   },
   "outputs": [],
   "source": []
  },
  {
   "cell_type": "code",
   "execution_count": null,
   "metadata": {
    "id": "obayBuTeEjoD"
   },
   "outputs": [],
   "source": [
    "df.dropna(inplace=True)"
   ]
  },
  {
   "cell_type": "code",
   "execution_count": null,
   "metadata": {
    "id": "Y-RiSK1oCvcn"
   },
   "outputs": [],
   "source": [
    "# for col in df_encoded.columns:\n",
    "#     print(f\"Unique values in column '{col}': {df_encoded[col].nunique()}\")\n"
   ]
  },
  {
   "cell_type": "code",
   "execution_count": null,
   "metadata": {
    "id": "lArGEmG1DRq2"
   },
   "outputs": [],
   "source": [
    "# # for col in df_encoded.columns:\n",
    "#     print(f\"NAN values in column '{col}': {df_encoded[col].isna().sum()}\")"
   ]
  },
  {
   "cell_type": "code",
   "execution_count": null,
   "metadata": {
    "id": "eIzO5klODm9F"
   },
   "outputs": [],
   "source": [
    "features = [\n",
    "    'danceability', 'energy', 'valence', 'tempo',\n",
    "    'acousticness', 'instrumentalness', 'liveness', 'speechiness'\n",
    "]"
   ]
  },
  {
   "cell_type": "code",
   "execution_count": null,
   "metadata": {
    "id": "ptyvHhySXWfT"
   },
   "outputs": [],
   "source": [
    "import pandas as pd\n",
    "from sklearn.preprocessing import StandardScaler\n",
    "\n",
    "# # Load your data\n",
    "# df = pd.read_csv('your_dataset.csv')  # or however you have it\n",
    "\n",
    "# Keep only the needed features\n",
    "X = df[features].copy()\n",
    "\n",
    "# Scale features\n",
    "scaler = StandardScaler()\n",
    "X_scaled = scaler.fit_transform(X)"
   ]
  },
  {
   "cell_type": "code",
   "execution_count": null,
   "metadata": {
    "colab": {
     "base_uri": "https://localhost:8080/"
    },
    "id": "CuKC_43KXYrq",
    "outputId": "330cd53c-9298-46ce-c886-21fa76c52989"
   },
   "outputs": [],
   "source": [
    "!pip install tensorflow\n",
    "import tensorflow as tf\n",
    "from tensorflow.keras import layers, models\n",
    "\n",
    "input_dim = X_scaled.shape[1]\n",
    "\n",
    "# Autoencoder\n",
    "input_layer = layers.Input(shape=(input_dim,))\n",
    "encoded = layers.Dense(64, activation='relu')(input_layer)\n",
    "encoded = layers.Dense(32, activation='relu')(encoded)\n",
    "embedding = layers.Dense(16, activation='relu', name='embedding_layer')(encoded)\n",
    "\n",
    "decoded = layers.Dense(32, activation='relu')(embedding)\n",
    "decoded = layers.Dense(64, activation='relu')(decoded)\n",
    "output_layer = layers.Dense(input_dim, activation='linear')(decoded)\n",
    "\n",
    "autoencoder = models.Model(inputs=input_layer, outputs=output_layer)\n",
    "\n",
    "autoencoder.compile(optimizer='adam', loss='mse')\n",
    "\n",
    "# Train the autoencoder\n",
    "autoencoder.fit(X_scaled, X_scaled, epochs=30, batch_size=32, verbose=1)"
   ]
  },
  {
   "cell_type": "code",
   "execution_count": null,
   "metadata": {
    "colab": {
     "base_uri": "https://localhost:8080/"
    },
    "id": "rMD3TNqMXdvV",
    "outputId": "4a8375d2-ae22-4f04-d7f1-6ed84f77a742"
   },
   "outputs": [],
   "source": [
    "embedding_model = models.Model(inputs=autoencoder.input,\n",
    "                               outputs=autoencoder.get_layer('embedding_layer').output)\n",
    "\n",
    "song_embeddings = embedding_model.predict(X_scaled)"
   ]
  },
  {
   "cell_type": "code",
   "execution_count": null,
   "metadata": {
    "id": "6mPS8OgcX1GL"
   },
   "outputs": [],
   "source": [
    "from sklearn.metrics.pairwise import cosine_similarity\n",
    "import numpy as np\n",
    "\n",
    "def recommend_similar_songs(song_index, top_n=5):\n",
    "    similarities = cosine_similarity(\n",
    "        [song_embeddings[song_index]],\n",
    "        song_embeddings\n",
    "    )[0]\n",
    "\n",
    "    # Exclude the song itself\n",
    "    similar_indices = np.argsort(similarities)[::-1][1:top_n+1]\n",
    "    return df.iloc[similar_indices][['name', 'updated_artists', 'album.name']]"
   ]
  },
  {
   "cell_type": "code",
   "execution_count": null,
   "metadata": {
    "colab": {
     "base_uri": "https://localhost:8080/",
     "height": 206
    },
    "id": "FMpM906vX3fT",
    "outputId": "ced0960c-816d-4c14-9e3e-82815f3c7db5"
   },
   "outputs": [],
   "source": [
    "def recommend_similar_songs(song_index, top_n=5):\n",
    "    similarities = cosine_similarity(\n",
    "        [song_embeddings[song_index]],\n",
    "        song_embeddings\n",
    "    )[0]\n",
    "\n",
    "    similar_indices = np.argsort(similarities)[::-1][1:top_n+1]\n",
    "    return df.iloc[similar_indices][['name', 'updated_artists', 'album.name']]\n",
    "\n",
    "# Example: Recommend songs similar to the first track\n",
    "recommend_similar_songs(0)\n"
   ]
  },
  {
   "cell_type": "code",
   "execution_count": null,
   "metadata": {
    "colab": {
     "base_uri": "https://localhost:8080/",
     "height": 206
    },
    "id": "wX7vluMeYCHE",
    "outputId": "e033ebaf-d5bf-4ab8-838d-7e6b8d424324"
   },
   "outputs": [],
   "source": [
    "def recommend_by_name(song_name, top_n=5):\n",
    "    song_index = df[df['name'] == song_name].index[0]\n",
    "    return recommend_similar_songs(song_index, top_n=top_n)\n",
    "\n",
    "# Try:\n",
    "recommend_by_name(\"Still Got Time (feat. PARTYNEXTDOOR)\")"
   ]
  },
  {
   "cell_type": "code",
   "execution_count": null,
   "metadata": {
    "id": "pv4rh1sOYWyq"
   },
   "outputs": [],
   "source": [
    "def recommend_by_name(song_name, top_n=5):\n",
    "    matches = df[df['name'].str.lower() == song_name.lower()]\n",
    "    if matches.empty:\n",
    "        return f\"Song '{song_name}' not found.\"\n",
    "    song_index = matches.index[0]\n",
    "    return recommend_similar_songs(song_index, top_n=top_n)"
   ]
  },
  {
   "cell_type": "code",
   "execution_count": null,
   "metadata": {
    "colab": {
     "base_uri": "https://localhost:8080/",
     "height": 672
    },
    "id": "DJhW1laEYnW7",
    "outputId": "11cb7b83-5eb1-4cae-e594-7faf7478344a"
   },
   "outputs": [],
   "source": [
    "from sklearn.manifold import TSNE\n",
    "import matplotlib.pyplot as plt\n",
    "\n",
    "tsne = TSNE(n_components=2, perplexity=30, random_state=42)\n",
    "reduced = tsne.fit_transform(song_embeddings)\n",
    "\n",
    "plt.figure(figsize=(12, 8))\n",
    "plt.scatter(reduced[:, 0], reduced[:, 1], alpha=0.5)\n",
    "plt.title(\"t-SNE visualization of song embeddings\")\n",
    "plt.show()"
   ]
  },
  {
   "cell_type": "code",
   "execution_count": null,
   "metadata": {
    "colab": {
     "base_uri": "https://localhost:8080/"
    },
    "id": "DYxMMAluYpZ4",
    "outputId": "9819584c-a2bb-4afa-ae6c-06a7dffc3166"
   },
   "outputs": [],
   "source": [
    "loss = autoencoder.evaluate(X_scaled, X_scaled)\n",
    "print(f\"Autoencoder reconstruction loss: {loss:.4f}\")"
   ]
  },
  {
   "cell_type": "code",
   "execution_count": null,
   "metadata": {
    "colab": {
     "base_uri": "https://localhost:8080/"
    },
    "id": "8zWSsVjSZJ-7",
    "outputId": "7bb2d660-bb6e-40de-c0e5-53b3e685129e"
   },
   "outputs": [],
   "source": [
    "from sklearn.metrics import silhouette_score\n",
    "from sklearn.cluster import KMeans\n",
    "\n",
    "kmeans = KMeans(n_clusters=10, random_state=42)\n",
    "labels = kmeans.fit_predict(song_embeddings)\n",
    "\n",
    "score = silhouette_score(song_embeddings, labels)\n",
    "print(f\"Silhouette score: {score:.4f}\")"
   ]
  },
  {
   "cell_type": "code",
   "execution_count": null,
   "metadata": {
    "colab": {
     "base_uri": "https://localhost:8080/",
     "height": 699
    },
    "id": "JE30Vj5IZZyn",
    "outputId": "c40b46ab-bb73-4ad0-961e-4c3b829edd4b"
   },
   "outputs": [],
   "source": [
    "colors = pd.to_numeric(df['popularity'], errors='coerce')  # converts strings to numbers\n",
    "plt.figure(figsize=(12, 8))\n",
    "plt.scatter(reduced[:, 0], reduced[:, 1], c=colors, cmap='viridis', alpha=0.5)\n",
    "plt.title(\"t-SNE colored by Popularity\")\n",
    "plt.colorbar(label='Popularity')\n",
    "plt.show()"
   ]
  },
  {
   "cell_type": "code",
   "execution_count": null,
   "metadata": {
    "id": "r4LXXollZtVD"
   },
   "outputs": [],
   "source": [
    "df['description'] = (\n",
    "    df['name'] + ' by ' + df['updated_artists'].apply(lambda x: ', '.join(x)) +\n",
    "    '. Energetic: ' + df['energy'].round(2).astype(str) +\n",
    "    ', Danceable: ' + df['danceability'].round(2).astype(str) +\n",
    "    ', Mood: ' + df['valence'].round(2).astype(str)\n",
    ")\n"
   ]
  },
  {
   "cell_type": "code",
   "execution_count": null,
   "metadata": {
    "colab": {
     "base_uri": "https://localhost:8080/",
     "height": 1000,
     "referenced_widgets": [
      "8ea1b3afef594a43975340ad5501d7a1",
      "61ce8d2aae6b41a686584ac00a3acf90",
      "3f9ecead7bb24a9cb49720d55992d0c0",
      "4e9da46e6ce343ff99655e58ab40f9e7",
      "91c1f84062104a54a42cf6e940956bb4",
      "ac3a92ce1e8b41c28d2d6302345838b6",
      "0968cdccaa1d4b69a839f6b16c10b190",
      "851acb8478cb424b8270221ed8a3f120",
      "1be3940839a54bc68a9878f242d696e9",
      "5c003831d2d64e57a21cbc8753f91f4e",
      "7e7d11a17e504557977cfee77e4ffe81"
     ]
    },
    "id": "NdHG8f51fXq1",
    "outputId": "f4f15246-a554-4d21-f4a7-57d2dc09ba5d"
   },
   "outputs": [],
   "source": [
    "!pip install sentence_transformers\n",
    "!pip install tf-keras\n",
    "from sentence_transformers import SentenceTransformer\n",
    "\n",
    "model = SentenceTransformer('all-MiniLM-L6-v2')  # Lightweight, effective\n",
    "\n",
    "song_embeddings = model.encode(df['description'].tolist(), show_progress_bar=True)"
   ]
  },
  {
   "cell_type": "code",
   "execution_count": null,
   "metadata": {
    "id": "ypIPuHwpfaII"
   },
   "outputs": [],
   "source": [
    "def recommend_by_prompt(prompt, top_n=5):\n",
    "    query_embedding = model.encode([prompt])[0]\n",
    "    sims = cosine_similarity([query_embedding], song_embeddings)[0]\n",
    "    top_indices = sims.argsort()[::-1][:top_n]\n",
    "    return df.iloc[top_indices][['name', 'updated_artists', 'album.name']]"
   ]
  },
  {
   "cell_type": "code",
   "execution_count": null,
   "metadata": {
    "colab": {
     "base_uri": "https://localhost:8080/",
     "height": 206
    },
    "id": "4jolXp22g9LN",
    "outputId": "0d69c749-8239-4aa9-e34e-7acddfd04b7a"
   },
   "outputs": [],
   "source": [
    "# recommend_by_prompt(\"happy upbeat party song\", top_n=5)\n",
    "# # recommend_by_prompt(\"something mellow and sad\", top_n=5)\n",
    "# # recommend_by_prompt(\"romantic slow dance\", top_n=5)\n",
    "# recommend_by_prompt(\"Indian sad song\", top_n=5)\n",
    "recommend_by_prompt(\"Indian happy  song\", top_n=5)"
   ]
  },
  {
   "cell_type": "code",
   "execution_count": null,
   "metadata": {
    "id": "FgPVIut3hGsW"
   },
   "outputs": [],
   "source": []
  },
  {
   "cell_type": "code",
   "execution_count": null,
   "metadata": {
    "id": "VbgMPnGjjIBB"
   },
   "outputs": [],
   "source": []
  },
  {
   "cell_type": "code",
   "execution_count": null,
   "metadata": {
    "id": "yptnyzP7jH_A"
   },
   "outputs": [],
   "source": []
  },
  {
   "cell_type": "code",
   "execution_count": null,
   "metadata": {
    "id": "oGAnCsZGjH7L"
   },
   "outputs": [],
   "source": [
    "prompt = \"Indian sad song\"  # or any test phrase"
   ]
  },
  {
   "cell_type": "code",
   "execution_count": null,
   "metadata": {
    "id": "RTvhFUFBjIgl"
   },
   "outputs": [],
   "source": [
    "query_embedding = model.encode([prompt])[0]\n",
    "sims = cosine_similarity([query_embedding], song_embeddings)[0]"
   ]
  },
  {
   "cell_type": "code",
   "execution_count": null,
   "metadata": {
    "id": "hbfj8nWljWzr"
   },
   "outputs": [],
   "source": [
    "country_bias = 0.15  # Strength of boost; tune as needed\n",
    "bias = df['IN'] * country_bias  # 1 if in India, else 0\n",
    "biased_scores = sims + bias"
   ]
  },
  {
   "cell_type": "code",
   "execution_count": null,
   "metadata": {
    "id": "V21Xkmypjbu9"
   },
   "outputs": [],
   "source": [
    "top_n = 5  # or however many results you want\n",
    "top_indices = biased_scores.argsort()[::-1][:top_n]\n",
    "results = df.iloc[top_indices][['name', 'updated_artists', 'album.name', 'description']]"
   ]
  },
  {
   "cell_type": "code",
   "execution_count": null,
   "metadata": {
    "id": "CDgZyKJ4jch8"
   },
   "outputs": [],
   "source": [
    "def recommend_biased_by_country(prompt, country_code='IN', country_boost=0.15, top_n=5):\n",
    "    query_embedding = model.encode([prompt])[0]\n",
    "    sims = cosine_similarity([query_embedding], song_embeddings)[0]\n",
    "\n",
    "    # Add country bias softly\n",
    "    bias = df[country_code] * country_boost\n",
    "    biased_scores = sims + bias\n",
    "\n",
    "    top_indices = biased_scores.argsort()[::-1][:top_n]\n",
    "    return df.iloc[top_indices][['name', 'updated_artists', 'album.name', 'description']]"
   ]
  },
  {
   "cell_type": "code",
   "execution_count": null,
   "metadata": {
    "colab": {
     "base_uri": "https://localhost:8080/",
     "height": 293
    },
    "id": "a3PN_c92jmR5",
    "outputId": "aed716c4-1728-4416-f5b7-7041787992b2"
   },
   "outputs": [],
   "source": [
    "recommend_biased_by_country(\"Arijit Singh\", country_code='IN', country_boost=0.9, top_n=5)"
   ]
  },
  {
   "cell_type": "code",
   "execution_count": null,
   "metadata": {
    "id": "39Amkg7OjxoB"
   },
   "outputs": [],
   "source": []
  },
  {
   "cell_type": "code",
   "execution_count": null,
   "metadata": {
    "id": "tPgsTbSzlSL2"
   },
   "outputs": [],
   "source": []
  },
  {
   "cell_type": "code",
   "execution_count": null,
   "metadata": {
    "id": "cF6_0d2DlSyb"
   },
   "outputs": [],
   "source": []
  },
  {
   "cell_type": "code",
   "execution_count": null,
   "metadata": {
    "colab": {
     "base_uri": "https://localhost:8080/"
    },
    "id": "lIwLu7DOlSvc",
    "outputId": "64e7f012-db40-4349-ba97-414b2e3ec0f1"
   },
   "outputs": [],
   "source": [
    "pip install langdetect"
   ]
  },
  {
   "cell_type": "code",
   "execution_count": null,
   "metadata": {
    "id": "B02us4eqlTPL"
   },
   "outputs": [],
   "source": [
    "from sentence_transformers import SentenceTransformer\n",
    "from sklearn.metrics.pairwise import cosine_similarity\n",
    "from langdetect import detect, DetectorFactory\n",
    "\n",
    "DetectorFactory.seed = 0  # Make results consistent"
   ]
  },
  {
   "cell_type": "code",
   "execution_count": null,
   "metadata": {
    "id": "95h8oe1SlV5b"
   },
   "outputs": [],
   "source": [
    "language_to_country = {\n",
    "    'hi': 'IN',\n",
    "    'pa': 'IN',\n",
    "    'ta': 'IN',\n",
    "    'te': 'IN',\n",
    "    'en': 'US',\n",
    "    'es': 'ES',\n",
    "    'fr': 'FR',\n",
    "    'de': 'DE',\n",
    "    'ja': 'JP',\n",
    "    'ko': 'KR'\n",
    "}"
   ]
  },
  {
   "cell_type": "code",
   "execution_count": null,
   "metadata": {
    "id": "OYFm7lXGlo4B"
   },
   "outputs": [],
   "source": [
    "def detect_language(title):\n",
    "    try:\n",
    "        return detect(title)\n",
    "    except:\n",
    "        return 'unknown'\n",
    "\n",
    "df['detected_language'] = df['name'].apply(detect_language)\n",
    "df['country_code'] = df['detected_language'].apply(lambda lang: language_to_country.get(lang, 'IN'))  # fallback: IN"
   ]
  },
  {
   "cell_type": "code",
   "execution_count": null,
   "metadata": {
    "id": "bo_m-l8-lqZ6"
   },
   "outputs": [],
   "source": [
    "df['description'] = (\n",
    "    df['name'] + ' by ' + df['updated_artists'].apply(lambda x: ', '.join(x)) +\n",
    "    '. Language: ' + df['detected_language'] +\n",
    "    '. Energy: ' + df['energy'].round(2).astype(str) +\n",
    "    ', Danceability: ' + df['danceability'].round(2).astype(str) +\n",
    "    ', Valence: ' + df['valence'].round(2).astype(str)\n",
    ")"
   ]
  },
  {
   "cell_type": "code",
   "execution_count": null,
   "metadata": {
    "colab": {
     "base_uri": "https://localhost:8080/",
     "height": 49,
     "referenced_widgets": [
      "b062f7bedd9945f68dd2daa5b18414cc",
      "01d7fa7ecb6240fd91f814ebbeeb6a10",
      "8847bf0eda1f4d55a9d83f828506d995",
      "45edf3cf48aa47ca9c9c304818b7f532",
      "4a2bdca853da485a9359e00c1147e45e",
      "d9149acc395648eabf33deb1376b0968",
      "6f668c8f21654e8ab962ab04a9ea407a",
      "0940904cc23a43f781cbc52ae781e3d0",
      "0207dcefb6eb4591b60197e217cae3db",
      "d796b90d3eec4fc3a53a09f1480f123f",
      "f73ca2de11e446df956f76c4ff423997"
     ]
    },
    "id": "RmqmeGOQlsd7",
    "outputId": "0b2af348-7a69-4996-9e5e-9a74849cad5f"
   },
   "outputs": [],
   "source": [
    "model = SentenceTransformer('all-MiniLM-L6-v2')\n",
    "song_embeddings = model.encode(df['description'].tolist(), show_progress_bar=True)"
   ]
  },
  {
   "cell_type": "code",
   "execution_count": null,
   "metadata": {
    "id": "l4WpWPB2luB4"
   },
   "outputs": [],
   "source": [
    "def smart_recommend(prompt, country_boost=0.2, top_n=5):\n",
    "    query_embedding = model.encode([prompt])[0]\n",
    "    sims = cosine_similarity([query_embedding], song_embeddings)[0]\n",
    "\n",
    "    # Detect country from prompt\n",
    "    try:\n",
    "        prompt_lang = detect(prompt)\n",
    "    except:\n",
    "        prompt_lang = 'unknown'\n",
    "\n",
    "    prompt_country = language_to_country.get(prompt_lang, 'IN')\n",
    "\n",
    "    # Apply bias using country column\n",
    "    bias = df[prompt_country] * country_boost if prompt_country in df.columns else 0\n",
    "    biased_scores = sims + bias\n",
    "\n",
    "    top_indices = biased_scores.argsort()[::-1][:top_n]\n",
    "    return df.iloc[top_indices][['name', 'updated_artists', 'album.name', 'description', 'detected_language']]"
   ]
  },
  {
   "cell_type": "code",
   "execution_count": null,
   "metadata": {
    "colab": {
     "base_uri": "https://localhost:8080/",
     "height": 432
    },
    "id": "vbkgGbZKlxbW",
    "outputId": "c0253138-8047-4355-e11c-d9e78de17ee6"
   },
   "outputs": [],
   "source": [
    "smart_recommend(\"happy hindi song Atif Aslam\")"
   ]
  },
  {
   "cell_type": "code",
   "execution_count": null,
   "metadata": {
    "colab": {
     "base_uri": "https://localhost:8080/",
     "height": 362
    },
    "id": "c3hn-cSBlzGB",
    "outputId": "46c94930-5d7f-4bf0-e27f-b923de751fd3"
   },
   "outputs": [],
   "source": [
    "smart_recommend(\"Punjabi party track\")\n"
   ]
  },
  {
   "cell_type": "code",
   "execution_count": null,
   "metadata": {
    "id": "BAsDYqJOoiNj"
   },
   "outputs": [],
   "source": []
  }
 ],
 "metadata": {
  "accelerator": "TPU",
  "colab": {
   "gpuType": "V28",
   "provenance": []
  },
  "kernelspec": {
   "display_name": "Python 3",
   "name": "python3"
  },
  "language_info": {
   "name": "python"
  },
  "widgets": {
   "application/vnd.jupyter.widget-state+json": {
    "01d7fa7ecb6240fd91f814ebbeeb6a10": {
     "model_module": "@jupyter-widgets/controls",
     "model_module_version": "1.5.0",
     "model_name": "HTMLModel",
     "state": {
      "_dom_classes": [],
      "_model_module": "@jupyter-widgets/controls",
      "_model_module_version": "1.5.0",
      "_model_name": "HTMLModel",
      "_view_count": null,
      "_view_module": "@jupyter-widgets/controls",
      "_view_module_version": "1.5.0",
      "_view_name": "HTMLView",
      "description": "",
      "description_tooltip": null,
      "layout": "IPY_MODEL_d9149acc395648eabf33deb1376b0968",
      "placeholder": "​",
      "style": "IPY_MODEL_6f668c8f21654e8ab962ab04a9ea407a",
      "value": "Batches: 100%"
     }
    },
    "0207dcefb6eb4591b60197e217cae3db": {
     "model_module": "@jupyter-widgets/controls",
     "model_module_version": "1.5.0",
     "model_name": "ProgressStyleModel",
     "state": {
      "_model_module": "@jupyter-widgets/controls",
      "_model_module_version": "1.5.0",
      "_model_name": "ProgressStyleModel",
      "_view_count": null,
      "_view_module": "@jupyter-widgets/base",
      "_view_module_version": "1.2.0",
      "_view_name": "StyleView",
      "bar_color": null,
      "description_width": ""
     }
    },
    "0940904cc23a43f781cbc52ae781e3d0": {
     "model_module": "@jupyter-widgets/base",
     "model_module_version": "1.2.0",
     "model_name": "LayoutModel",
     "state": {
      "_model_module": "@jupyter-widgets/base",
      "_model_module_version": "1.2.0",
      "_model_name": "LayoutModel",
      "_view_count": null,
      "_view_module": "@jupyter-widgets/base",
      "_view_module_version": "1.2.0",
      "_view_name": "LayoutView",
      "align_content": null,
      "align_items": null,
      "align_self": null,
      "border": null,
      "bottom": null,
      "display": null,
      "flex": null,
      "flex_flow": null,
      "grid_area": null,
      "grid_auto_columns": null,
      "grid_auto_flow": null,
      "grid_auto_rows": null,
      "grid_column": null,
      "grid_gap": null,
      "grid_row": null,
      "grid_template_areas": null,
      "grid_template_columns": null,
      "grid_template_rows": null,
      "height": null,
      "justify_content": null,
      "justify_items": null,
      "left": null,
      "margin": null,
      "max_height": null,
      "max_width": null,
      "min_height": null,
      "min_width": null,
      "object_fit": null,
      "object_position": null,
      "order": null,
      "overflow": null,
      "overflow_x": null,
      "overflow_y": null,
      "padding": null,
      "right": null,
      "top": null,
      "visibility": null,
      "width": null
     }
    },
    "0968cdccaa1d4b69a839f6b16c10b190": {
     "model_module": "@jupyter-widgets/controls",
     "model_module_version": "1.5.0",
     "model_name": "DescriptionStyleModel",
     "state": {
      "_model_module": "@jupyter-widgets/controls",
      "_model_module_version": "1.5.0",
      "_model_name": "DescriptionStyleModel",
      "_view_count": null,
      "_view_module": "@jupyter-widgets/base",
      "_view_module_version": "1.2.0",
      "_view_name": "StyleView",
      "description_width": ""
     }
    },
    "1be3940839a54bc68a9878f242d696e9": {
     "model_module": "@jupyter-widgets/controls",
     "model_module_version": "1.5.0",
     "model_name": "ProgressStyleModel",
     "state": {
      "_model_module": "@jupyter-widgets/controls",
      "_model_module_version": "1.5.0",
      "_model_name": "ProgressStyleModel",
      "_view_count": null,
      "_view_module": "@jupyter-widgets/base",
      "_view_module_version": "1.2.0",
      "_view_name": "StyleView",
      "bar_color": null,
      "description_width": ""
     }
    },
    "3f9ecead7bb24a9cb49720d55992d0c0": {
     "model_module": "@jupyter-widgets/controls",
     "model_module_version": "1.5.0",
     "model_name": "FloatProgressModel",
     "state": {
      "_dom_classes": [],
      "_model_module": "@jupyter-widgets/controls",
      "_model_module_version": "1.5.0",
      "_model_name": "FloatProgressModel",
      "_view_count": null,
      "_view_module": "@jupyter-widgets/controls",
      "_view_module_version": "1.5.0",
      "_view_name": "ProgressView",
      "bar_style": "success",
      "description": "",
      "description_tooltip": null,
      "layout": "IPY_MODEL_851acb8478cb424b8270221ed8a3f120",
      "max": 369,
      "min": 0,
      "orientation": "horizontal",
      "style": "IPY_MODEL_1be3940839a54bc68a9878f242d696e9",
      "value": 369
     }
    },
    "45edf3cf48aa47ca9c9c304818b7f532": {
     "model_module": "@jupyter-widgets/controls",
     "model_module_version": "1.5.0",
     "model_name": "HTMLModel",
     "state": {
      "_dom_classes": [],
      "_model_module": "@jupyter-widgets/controls",
      "_model_module_version": "1.5.0",
      "_model_name": "HTMLModel",
      "_view_count": null,
      "_view_module": "@jupyter-widgets/controls",
      "_view_module_version": "1.5.0",
      "_view_name": "HTMLView",
      "description": "",
      "description_tooltip": null,
      "layout": "IPY_MODEL_d796b90d3eec4fc3a53a09f1480f123f",
      "placeholder": "​",
      "style": "IPY_MODEL_f73ca2de11e446df956f76c4ff423997",
      "value": " 369/369 [07:21&lt;00:00,  1.07it/s]"
     }
    },
    "4a2bdca853da485a9359e00c1147e45e": {
     "model_module": "@jupyter-widgets/base",
     "model_module_version": "1.2.0",
     "model_name": "LayoutModel",
     "state": {
      "_model_module": "@jupyter-widgets/base",
      "_model_module_version": "1.2.0",
      "_model_name": "LayoutModel",
      "_view_count": null,
      "_view_module": "@jupyter-widgets/base",
      "_view_module_version": "1.2.0",
      "_view_name": "LayoutView",
      "align_content": null,
      "align_items": null,
      "align_self": null,
      "border": null,
      "bottom": null,
      "display": null,
      "flex": null,
      "flex_flow": null,
      "grid_area": null,
      "grid_auto_columns": null,
      "grid_auto_flow": null,
      "grid_auto_rows": null,
      "grid_column": null,
      "grid_gap": null,
      "grid_row": null,
      "grid_template_areas": null,
      "grid_template_columns": null,
      "grid_template_rows": null,
      "height": null,
      "justify_content": null,
      "justify_items": null,
      "left": null,
      "margin": null,
      "max_height": null,
      "max_width": null,
      "min_height": null,
      "min_width": null,
      "object_fit": null,
      "object_position": null,
      "order": null,
      "overflow": null,
      "overflow_x": null,
      "overflow_y": null,
      "padding": null,
      "right": null,
      "top": null,
      "visibility": null,
      "width": null
     }
    },
    "4e9da46e6ce343ff99655e58ab40f9e7": {
     "model_module": "@jupyter-widgets/controls",
     "model_module_version": "1.5.0",
     "model_name": "HTMLModel",
     "state": {
      "_dom_classes": [],
      "_model_module": "@jupyter-widgets/controls",
      "_model_module_version": "1.5.0",
      "_model_name": "HTMLModel",
      "_view_count": null,
      "_view_module": "@jupyter-widgets/controls",
      "_view_module_version": "1.5.0",
      "_view_name": "HTMLView",
      "description": "",
      "description_tooltip": null,
      "layout": "IPY_MODEL_5c003831d2d64e57a21cbc8753f91f4e",
      "placeholder": "​",
      "style": "IPY_MODEL_7e7d11a17e504557977cfee77e4ffe81",
      "value": " 369/369 [06:49&lt;00:00,  1.19it/s]"
     }
    },
    "5c003831d2d64e57a21cbc8753f91f4e": {
     "model_module": "@jupyter-widgets/base",
     "model_module_version": "1.2.0",
     "model_name": "LayoutModel",
     "state": {
      "_model_module": "@jupyter-widgets/base",
      "_model_module_version": "1.2.0",
      "_model_name": "LayoutModel",
      "_view_count": null,
      "_view_module": "@jupyter-widgets/base",
      "_view_module_version": "1.2.0",
      "_view_name": "LayoutView",
      "align_content": null,
      "align_items": null,
      "align_self": null,
      "border": null,
      "bottom": null,
      "display": null,
      "flex": null,
      "flex_flow": null,
      "grid_area": null,
      "grid_auto_columns": null,
      "grid_auto_flow": null,
      "grid_auto_rows": null,
      "grid_column": null,
      "grid_gap": null,
      "grid_row": null,
      "grid_template_areas": null,
      "grid_template_columns": null,
      "grid_template_rows": null,
      "height": null,
      "justify_content": null,
      "justify_items": null,
      "left": null,
      "margin": null,
      "max_height": null,
      "max_width": null,
      "min_height": null,
      "min_width": null,
      "object_fit": null,
      "object_position": null,
      "order": null,
      "overflow": null,
      "overflow_x": null,
      "overflow_y": null,
      "padding": null,
      "right": null,
      "top": null,
      "visibility": null,
      "width": null
     }
    },
    "61ce8d2aae6b41a686584ac00a3acf90": {
     "model_module": "@jupyter-widgets/controls",
     "model_module_version": "1.5.0",
     "model_name": "HTMLModel",
     "state": {
      "_dom_classes": [],
      "_model_module": "@jupyter-widgets/controls",
      "_model_module_version": "1.5.0",
      "_model_name": "HTMLModel",
      "_view_count": null,
      "_view_module": "@jupyter-widgets/controls",
      "_view_module_version": "1.5.0",
      "_view_name": "HTMLView",
      "description": "",
      "description_tooltip": null,
      "layout": "IPY_MODEL_ac3a92ce1e8b41c28d2d6302345838b6",
      "placeholder": "​",
      "style": "IPY_MODEL_0968cdccaa1d4b69a839f6b16c10b190",
      "value": "Batches: 100%"
     }
    },
    "6f668c8f21654e8ab962ab04a9ea407a": {
     "model_module": "@jupyter-widgets/controls",
     "model_module_version": "1.5.0",
     "model_name": "DescriptionStyleModel",
     "state": {
      "_model_module": "@jupyter-widgets/controls",
      "_model_module_version": "1.5.0",
      "_model_name": "DescriptionStyleModel",
      "_view_count": null,
      "_view_module": "@jupyter-widgets/base",
      "_view_module_version": "1.2.0",
      "_view_name": "StyleView",
      "description_width": ""
     }
    },
    "7e7d11a17e504557977cfee77e4ffe81": {
     "model_module": "@jupyter-widgets/controls",
     "model_module_version": "1.5.0",
     "model_name": "DescriptionStyleModel",
     "state": {
      "_model_module": "@jupyter-widgets/controls",
      "_model_module_version": "1.5.0",
      "_model_name": "DescriptionStyleModel",
      "_view_count": null,
      "_view_module": "@jupyter-widgets/base",
      "_view_module_version": "1.2.0",
      "_view_name": "StyleView",
      "description_width": ""
     }
    },
    "851acb8478cb424b8270221ed8a3f120": {
     "model_module": "@jupyter-widgets/base",
     "model_module_version": "1.2.0",
     "model_name": "LayoutModel",
     "state": {
      "_model_module": "@jupyter-widgets/base",
      "_model_module_version": "1.2.0",
      "_model_name": "LayoutModel",
      "_view_count": null,
      "_view_module": "@jupyter-widgets/base",
      "_view_module_version": "1.2.0",
      "_view_name": "LayoutView",
      "align_content": null,
      "align_items": null,
      "align_self": null,
      "border": null,
      "bottom": null,
      "display": null,
      "flex": null,
      "flex_flow": null,
      "grid_area": null,
      "grid_auto_columns": null,
      "grid_auto_flow": null,
      "grid_auto_rows": null,
      "grid_column": null,
      "grid_gap": null,
      "grid_row": null,
      "grid_template_areas": null,
      "grid_template_columns": null,
      "grid_template_rows": null,
      "height": null,
      "justify_content": null,
      "justify_items": null,
      "left": null,
      "margin": null,
      "max_height": null,
      "max_width": null,
      "min_height": null,
      "min_width": null,
      "object_fit": null,
      "object_position": null,
      "order": null,
      "overflow": null,
      "overflow_x": null,
      "overflow_y": null,
      "padding": null,
      "right": null,
      "top": null,
      "visibility": null,
      "width": null
     }
    },
    "8847bf0eda1f4d55a9d83f828506d995": {
     "model_module": "@jupyter-widgets/controls",
     "model_module_version": "1.5.0",
     "model_name": "FloatProgressModel",
     "state": {
      "_dom_classes": [],
      "_model_module": "@jupyter-widgets/controls",
      "_model_module_version": "1.5.0",
      "_model_name": "FloatProgressModel",
      "_view_count": null,
      "_view_module": "@jupyter-widgets/controls",
      "_view_module_version": "1.5.0",
      "_view_name": "ProgressView",
      "bar_style": "success",
      "description": "",
      "description_tooltip": null,
      "layout": "IPY_MODEL_0940904cc23a43f781cbc52ae781e3d0",
      "max": 369,
      "min": 0,
      "orientation": "horizontal",
      "style": "IPY_MODEL_0207dcefb6eb4591b60197e217cae3db",
      "value": 369
     }
    },
    "8ea1b3afef594a43975340ad5501d7a1": {
     "model_module": "@jupyter-widgets/controls",
     "model_module_version": "1.5.0",
     "model_name": "HBoxModel",
     "state": {
      "_dom_classes": [],
      "_model_module": "@jupyter-widgets/controls",
      "_model_module_version": "1.5.0",
      "_model_name": "HBoxModel",
      "_view_count": null,
      "_view_module": "@jupyter-widgets/controls",
      "_view_module_version": "1.5.0",
      "_view_name": "HBoxView",
      "box_style": "",
      "children": [
       "IPY_MODEL_61ce8d2aae6b41a686584ac00a3acf90",
       "IPY_MODEL_3f9ecead7bb24a9cb49720d55992d0c0",
       "IPY_MODEL_4e9da46e6ce343ff99655e58ab40f9e7"
      ],
      "layout": "IPY_MODEL_91c1f84062104a54a42cf6e940956bb4"
     }
    },
    "91c1f84062104a54a42cf6e940956bb4": {
     "model_module": "@jupyter-widgets/base",
     "model_module_version": "1.2.0",
     "model_name": "LayoutModel",
     "state": {
      "_model_module": "@jupyter-widgets/base",
      "_model_module_version": "1.2.0",
      "_model_name": "LayoutModel",
      "_view_count": null,
      "_view_module": "@jupyter-widgets/base",
      "_view_module_version": "1.2.0",
      "_view_name": "LayoutView",
      "align_content": null,
      "align_items": null,
      "align_self": null,
      "border": null,
      "bottom": null,
      "display": null,
      "flex": null,
      "flex_flow": null,
      "grid_area": null,
      "grid_auto_columns": null,
      "grid_auto_flow": null,
      "grid_auto_rows": null,
      "grid_column": null,
      "grid_gap": null,
      "grid_row": null,
      "grid_template_areas": null,
      "grid_template_columns": null,
      "grid_template_rows": null,
      "height": null,
      "justify_content": null,
      "justify_items": null,
      "left": null,
      "margin": null,
      "max_height": null,
      "max_width": null,
      "min_height": null,
      "min_width": null,
      "object_fit": null,
      "object_position": null,
      "order": null,
      "overflow": null,
      "overflow_x": null,
      "overflow_y": null,
      "padding": null,
      "right": null,
      "top": null,
      "visibility": null,
      "width": null
     }
    },
    "ac3a92ce1e8b41c28d2d6302345838b6": {
     "model_module": "@jupyter-widgets/base",
     "model_module_version": "1.2.0",
     "model_name": "LayoutModel",
     "state": {
      "_model_module": "@jupyter-widgets/base",
      "_model_module_version": "1.2.0",
      "_model_name": "LayoutModel",
      "_view_count": null,
      "_view_module": "@jupyter-widgets/base",
      "_view_module_version": "1.2.0",
      "_view_name": "LayoutView",
      "align_content": null,
      "align_items": null,
      "align_self": null,
      "border": null,
      "bottom": null,
      "display": null,
      "flex": null,
      "flex_flow": null,
      "grid_area": null,
      "grid_auto_columns": null,
      "grid_auto_flow": null,
      "grid_auto_rows": null,
      "grid_column": null,
      "grid_gap": null,
      "grid_row": null,
      "grid_template_areas": null,
      "grid_template_columns": null,
      "grid_template_rows": null,
      "height": null,
      "justify_content": null,
      "justify_items": null,
      "left": null,
      "margin": null,
      "max_height": null,
      "max_width": null,
      "min_height": null,
      "min_width": null,
      "object_fit": null,
      "object_position": null,
      "order": null,
      "overflow": null,
      "overflow_x": null,
      "overflow_y": null,
      "padding": null,
      "right": null,
      "top": null,
      "visibility": null,
      "width": null
     }
    },
    "b062f7bedd9945f68dd2daa5b18414cc": {
     "model_module": "@jupyter-widgets/controls",
     "model_module_version": "1.5.0",
     "model_name": "HBoxModel",
     "state": {
      "_dom_classes": [],
      "_model_module": "@jupyter-widgets/controls",
      "_model_module_version": "1.5.0",
      "_model_name": "HBoxModel",
      "_view_count": null,
      "_view_module": "@jupyter-widgets/controls",
      "_view_module_version": "1.5.0",
      "_view_name": "HBoxView",
      "box_style": "",
      "children": [
       "IPY_MODEL_01d7fa7ecb6240fd91f814ebbeeb6a10",
       "IPY_MODEL_8847bf0eda1f4d55a9d83f828506d995",
       "IPY_MODEL_45edf3cf48aa47ca9c9c304818b7f532"
      ],
      "layout": "IPY_MODEL_4a2bdca853da485a9359e00c1147e45e"
     }
    },
    "d796b90d3eec4fc3a53a09f1480f123f": {
     "model_module": "@jupyter-widgets/base",
     "model_module_version": "1.2.0",
     "model_name": "LayoutModel",
     "state": {
      "_model_module": "@jupyter-widgets/base",
      "_model_module_version": "1.2.0",
      "_model_name": "LayoutModel",
      "_view_count": null,
      "_view_module": "@jupyter-widgets/base",
      "_view_module_version": "1.2.0",
      "_view_name": "LayoutView",
      "align_content": null,
      "align_items": null,
      "align_self": null,
      "border": null,
      "bottom": null,
      "display": null,
      "flex": null,
      "flex_flow": null,
      "grid_area": null,
      "grid_auto_columns": null,
      "grid_auto_flow": null,
      "grid_auto_rows": null,
      "grid_column": null,
      "grid_gap": null,
      "grid_row": null,
      "grid_template_areas": null,
      "grid_template_columns": null,
      "grid_template_rows": null,
      "height": null,
      "justify_content": null,
      "justify_items": null,
      "left": null,
      "margin": null,
      "max_height": null,
      "max_width": null,
      "min_height": null,
      "min_width": null,
      "object_fit": null,
      "object_position": null,
      "order": null,
      "overflow": null,
      "overflow_x": null,
      "overflow_y": null,
      "padding": null,
      "right": null,
      "top": null,
      "visibility": null,
      "width": null
     }
    },
    "d9149acc395648eabf33deb1376b0968": {
     "model_module": "@jupyter-widgets/base",
     "model_module_version": "1.2.0",
     "model_name": "LayoutModel",
     "state": {
      "_model_module": "@jupyter-widgets/base",
      "_model_module_version": "1.2.0",
      "_model_name": "LayoutModel",
      "_view_count": null,
      "_view_module": "@jupyter-widgets/base",
      "_view_module_version": "1.2.0",
      "_view_name": "LayoutView",
      "align_content": null,
      "align_items": null,
      "align_self": null,
      "border": null,
      "bottom": null,
      "display": null,
      "flex": null,
      "flex_flow": null,
      "grid_area": null,
      "grid_auto_columns": null,
      "grid_auto_flow": null,
      "grid_auto_rows": null,
      "grid_column": null,
      "grid_gap": null,
      "grid_row": null,
      "grid_template_areas": null,
      "grid_template_columns": null,
      "grid_template_rows": null,
      "height": null,
      "justify_content": null,
      "justify_items": null,
      "left": null,
      "margin": null,
      "max_height": null,
      "max_width": null,
      "min_height": null,
      "min_width": null,
      "object_fit": null,
      "object_position": null,
      "order": null,
      "overflow": null,
      "overflow_x": null,
      "overflow_y": null,
      "padding": null,
      "right": null,
      "top": null,
      "visibility": null,
      "width": null
     }
    },
    "f73ca2de11e446df956f76c4ff423997": {
     "model_module": "@jupyter-widgets/controls",
     "model_module_version": "1.5.0",
     "model_name": "DescriptionStyleModel",
     "state": {
      "_model_module": "@jupyter-widgets/controls",
      "_model_module_version": "1.5.0",
      "_model_name": "DescriptionStyleModel",
      "_view_count": null,
      "_view_module": "@jupyter-widgets/base",
      "_view_module_version": "1.2.0",
      "_view_name": "StyleView",
      "description_width": ""
     }
    }
   }
  }
 },
 "nbformat": 4,
 "nbformat_minor": 0
}
